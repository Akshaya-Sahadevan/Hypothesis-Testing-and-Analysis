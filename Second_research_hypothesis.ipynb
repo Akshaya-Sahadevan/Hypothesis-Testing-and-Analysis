{
  "nbformat": 4,
  "nbformat_minor": 0,
  "metadata": {
    "colab": {
      "provenance": []
    },
    "kernelspec": {
      "name": "python3",
      "display_name": "Python 3"
    },
    "language_info": {
      "name": "python"
    }
  },
  "cells": [
    {
      "cell_type": "markdown",
      "source": [
        "# SECOND RESEARCH HYPOTHESIS"
      ],
      "metadata": {
        "id": "xZFWdosy2bc8"
      }
    },
    {
      "cell_type": "markdown",
      "source": [
        "## 1 INSTALLING PACKAGES AND SETTING UP ENVIRONMENT"
      ],
      "metadata": {
        "id": "-9Hy4-PY2fZE"
      }
    },
    {
      "cell_type": "code",
      "execution_count": null,
      "metadata": {
        "colab": {
          "base_uri": "https://localhost:8080/"
        },
        "id": "ff-VABO3tqBW",
        "outputId": "38e0352c-455b-4bc3-a9a4-775588c9fb15"
      },
      "outputs": [
        {
          "output_type": "stream",
          "name": "stdout",
          "text": [
            "sample_data\n",
            "--2023-05-13 16:04:07--  https://downloads.apache.org/spark/spark-3.3.2/spark-3.3.2-bin-hadoop3.tgz\n",
            "Resolving downloads.apache.org (downloads.apache.org)... 88.99.95.219, 135.181.214.104, 2a01:4f9:3a:2c57::2, ...\n",
            "Connecting to downloads.apache.org (downloads.apache.org)|88.99.95.219|:443... connected.\n",
            "HTTP request sent, awaiting response... 200 OK\n",
            "Length: 299360284 (285M) [application/x-gzip]\n",
            "Saving to: ‘spark-3.3.2-bin-hadoop3.tgz’\n",
            "\n",
            "spark-3.3.2-bin-had 100%[===================>] 285.49M  28.4MB/s    in 11s     \n",
            "\n",
            "2023-05-13 16:04:18 (26.3 MB/s) - ‘spark-3.3.2-bin-hadoop3.tgz’ saved [299360284/299360284]\n",
            "\n",
            "total 292368\n",
            "drwxr-xr-x  1 root root      4096 May 13 16:04 .\n",
            "drwxr-xr-x  1 root root      4096 May 13 16:02 ..\n",
            "drwxr-xr-x  1 root root      4096 May 11 16:35 sample_data\n",
            "drwxr-xr-x  4 root root      4096 May 11 16:34 .config\n",
            "-rw-r--r--  1 root root 299360284 Feb 10 21:28 spark-3.3.2-bin-hadoop3.tgz\n",
            "drwxr-xr-x 13  501 1000      4096 Feb 10 20:40 spark-3.3.2-bin-hadoop3\n"
          ]
        }
      ],
      "source": [
        "!ls\n",
        "\n",
        "!apt-get install openjdk-8-jdk-headless -qq > /dev/null\n",
        "!wget https://downloads.apache.org/spark/spark-3.3.2/spark-3.3.2-bin-hadoop3.tgz\n",
        "!tar -xf spark-3.3.2-bin-hadoop3.tgz\n",
        "!ls -alt"
      ]
    },
    {
      "cell_type": "code",
      "source": [
        "!pip3 install findspark"
      ],
      "metadata": {
        "colab": {
          "base_uri": "https://localhost:8080/"
        },
        "id": "XV6LKCgO2nEJ",
        "outputId": "9e8d0470-10d6-429c-e49e-64423c1af74c"
      },
      "execution_count": null,
      "outputs": [
        {
          "output_type": "stream",
          "name": "stdout",
          "text": [
            "Looking in indexes: https://pypi.org/simple, https://us-python.pkg.dev/colab-wheels/public/simple/\n",
            "Collecting findspark\n",
            "  Downloading findspark-2.0.1-py2.py3-none-any.whl (4.4 kB)\n",
            "Installing collected packages: findspark\n",
            "Successfully installed findspark-2.0.1\n"
          ]
        }
      ]
    },
    {
      "cell_type": "code",
      "source": [
        "import os\n",
        "os.environ[\"JAVA_HOME\"] = \"/usr/lib/jvm/java-8-openjdk-amd64\"\n",
        "os.environ[\"SPARK_HOME\"] = \"/content/spark-3.3.2-bin-hadoop3\"\n",
        "import findspark\n",
        "findspark.init()\n",
        "from pyspark import SparkConf, SparkContext\n",
        "# Spark is started. 2 cores used:\n",
        "spark_conf = SparkConf().setMaster('local[2]').setAppName('MyApp')\n",
        "sc = SparkContext(conf=spark_conf)\n",
        "# Importing pyspark SQL for queries: \n",
        "from pyspark.sql import *\n",
        "from pyspark.sql.functions import *\n",
        "\n",
        "# Spark Session is started: \n",
        "# \"SparkSession\" and \"sc\" are key handles in to Spark API\n",
        "##SparkSession.builder.getOrCreate()\n",
        "spark = SparkSession.builder.appName(\"ride2\").getOrCreate()"
      ],
      "metadata": {
        "id": "P9hZrYJG2sTQ"
      },
      "execution_count": null,
      "outputs": []
    },
    {
      "cell_type": "code",
      "source": [
        "from google.colab import drive\n",
        "drive.mount('/content/drive', force_remount=True)"
      ],
      "metadata": {
        "colab": {
          "base_uri": "https://localhost:8080/"
        },
        "id": "gYAHTeAU2sP9",
        "outputId": "6fd7cfcf-feb8-4854-9eb9-1734d31d16c8"
      },
      "execution_count": null,
      "outputs": [
        {
          "output_type": "stream",
          "name": "stdout",
          "text": [
            "Mounted at /content/drive\n"
          ]
        }
      ]
    },
    {
      "cell_type": "markdown",
      "source": [
        "## 2 LOADING DATASETS"
      ],
      "metadata": {
        "id": "Q_CNeq6c4QpP"
      }
    },
    {
      "cell_type": "code",
      "source": [
        "# The initial datasets used here are the same as the first research hypothesis.\n",
        "!wget https://cycling.data.tfl.gov.uk/usage-stats/cyclehireusagestats-2014.zip\n",
        "!unzip cyclehireusagestats-2014.zip"
      ],
      "metadata": {
        "colab": {
          "base_uri": "https://localhost:8080/"
        },
        "id": "l-n3pSj52sNO",
        "outputId": "ebe02531-ff55-409d-a58d-fe92fa186a5c"
      },
      "execution_count": null,
      "outputs": [
        {
          "output_type": "stream",
          "name": "stdout",
          "text": [
            "--2023-05-13 16:30:13--  https://cycling.data.tfl.gov.uk/usage-stats/cyclehireusagestats-2014.zip\n",
            "Resolving cycling.data.tfl.gov.uk (cycling.data.tfl.gov.uk)... 104.16.101.13, 104.16.100.13\n",
            "Connecting to cycling.data.tfl.gov.uk (cycling.data.tfl.gov.uk)|104.16.101.13|:443... connected.\n",
            "HTTP request sent, awaiting response... 200 OK\n",
            "Length: 225215129 (215M) [application/zip]\n",
            "Saving to: ‘cyclehireusagestats-2014.zip’\n",
            "\n",
            "cyclehireusagestats 100%[===================>] 214.78M   137MB/s    in 1.6s    \n",
            "\n",
            "2023-05-13 16:30:15 (137 MB/s) - ‘cyclehireusagestats-2014.zip’ saved [225215129/225215129]\n",
            "\n",
            "Archive:  cyclehireusagestats-2014.zip\n",
            "  inflating: 1. Journey Data Extract 05Jan14-02Feb14.csv  \n",
            "  inflating: 10a. Journey Data Extract 14Sep14-27Sep14.csv  \n",
            "  inflating: 10b. Journey Data Extract 28Sep14-11Oct14.csv  \n",
            "  inflating: 11a. Journey Data Extract 12Oct14-08Nov14.csv  \n",
            "  inflating: 11b. Journey Data Extract 12Oct14-08Nov14.csv  \n",
            "  inflating: 12a. Journey Data Extract 09Nov14-06Dec14.csv  \n",
            "  inflating: 12b. Journey Data Extract 09Nov14-06Dec14.csv  \n",
            "  inflating: 13a. Journey Data Extract 07Dec14-21Dec14.csv  \n",
            "  inflating: 13b. Journey Data Extract 22Dec14-03Jan15.csv  \n",
            "  inflating: 14. Journey Data Extract 08Dec13-04Jan14.csv  \n",
            "  inflating: 2. Journey Data Extract 03Feb14-01Mar14.csv  \n",
            "  inflating: 3. Journey Data Extract 02Mar14-31Mar14.csv  \n",
            "  inflating: 4. Journey Data Extract 01Apr14-26Apr14.csv  \n",
            "  inflating: 5. Journey Data Extract 27Apr14-24May14.csv  \n",
            "  inflating: 6. Journey Data Extract 25May14-21Jun14.csv  \n",
            "  inflating: 7. Journey Data Extract 22Jun14-19Jul14.csv  \n",
            "  inflating: 8a Journey Data Extract 20Jul14-31Jul14.csv  \n",
            "  inflating: 8b Journey Data Extract 01Aug14-16Aug14.csv  \n",
            "  inflating: 9a Journey Data Extract 17Aug14-31Aug14.csv  \n",
            "  inflating: 9b Journey Data Extract 01Sep14-13Sep14.csv  \n"
          ]
        }
      ]
    },
    {
      "cell_type": "code",
      "source": [
        "#An additional dataset from a different dataset is required to be joined with the current dataset to test the second research hypothesis.\n",
        "!wget https://divvy-tripdata.s3.amazonaws.com/Divvy_Stations_Trips_2014_Q3Q4.zip\n",
        "!unzip Divvy_Stations_Trips_2014_Q3Q4.zip"
      ],
      "metadata": {
        "colab": {
          "base_uri": "https://localhost:8080/"
        },
        "id": "yCeQdLJG2sKX",
        "outputId": "16a25ec1-30d7-4fcb-b7db-56a29698fe40"
      },
      "execution_count": null,
      "outputs": [
        {
          "output_type": "stream",
          "name": "stdout",
          "text": [
            "--2023-05-13 16:32:28--  https://divvy-tripdata.s3.amazonaws.com/Divvy_Stations_Trips_2014_Q3Q4.zip\n",
            "Resolving divvy-tripdata.s3.amazonaws.com (divvy-tripdata.s3.amazonaws.com)... 52.217.38.124, 52.216.213.209, 52.217.173.41, ...\n",
            "Connecting to divvy-tripdata.s3.amazonaws.com (divvy-tripdata.s3.amazonaws.com)|52.217.38.124|:443... connected.\n",
            "HTTP request sent, awaiting response... 200 OK\n",
            "Length: 30838872 (29M) [application/zip]\n",
            "Saving to: ‘Divvy_Stations_Trips_2014_Q3Q4.zip’\n",
            "\n",
            "Divvy_Stations_Trip 100%[===================>]  29.41M  76.8MB/s    in 0.4s    \n",
            "\n",
            "2023-05-13 16:32:29 (76.8 MB/s) - ‘Divvy_Stations_Trips_2014_Q3Q4.zip’ saved [30838872/30838872]\n",
            "\n",
            "Archive:  Divvy_Stations_Trips_2014_Q3Q4.zip\n",
            " extracting: Divvy_Stations_Trips_2014_Q3Q4/Divvy_Stations_2014_Q3Q4.zip  \n",
            "  inflating: Divvy_Stations_Trips_2014_Q3Q4/Divvy_Stations_2014-Q3Q4.csv  \n",
            "  inflating: Divvy_Stations_Trips_2014_Q3Q4/Divvy_Trips_2014-Q3-07.csv  \n",
            "  inflating: Divvy_Stations_Trips_2014_Q3Q4/Divvy_Trips_2014-Q3-0809.csv  \n",
            "  inflating: Divvy_Stations_Trips_2014_Q3Q4/Divvy_Trips_2014-Q4.csv  \n",
            "  inflating: Divvy_Stations_Trips_2014_Q3Q4/README.txt  \n"
          ]
        }
      ]
    },
    {
      "cell_type": "markdown",
      "source": [
        "##3 LOADING AND ANALYSING CHICAGO DATASET"
      ],
      "metadata": {
        "id": "V6RIJOgN9oVz"
      }
    },
    {
      "cell_type": "markdown",
      "source": [
        "For framing the second research hypothesis the new dataset needs to be loaded and analysed. The data@DivvyBikes.com provides the boke rides data of Chicago."
      ],
      "metadata": {
        "id": "YAiUcs-s9wAv"
      }
    },
    {
      "cell_type": "code",
      "source": [
        "file_path = \"Divvy_Stations_Trips_2014_Q3Q4/README.txt\"\n",
        "file_rdd = spark.read.text(file_path).rdd\n",
        "file_lines = file_rdd.collect()\n",
        "for line in file_lines:\n",
        "    print(line)"
      ],
      "metadata": {
        "colab": {
          "base_uri": "https://localhost:8080/"
        },
        "id": "2dEFiSR62sFJ",
        "outputId": "6c14a611-42fd-4924-d718-9ac4a29bbf43"
      },
      "execution_count": null,
      "outputs": [
        {
          "output_type": "stream",
          "name": "stdout",
          "text": [
            "Row(value='This file contains metadata for both the Trips and Stations table.')\n",
            "Row(value='')\n",
            "Row(value='For more information, visit http://DivvyBikes.com/data or email questions to data@DivvyBikes.com. ')\n",
            "Row(value='')\n",
            "Row(value='')\n",
            "Row(value='Metadata for Trips Table:')\n",
            "Row(value='')\n",
            "Row(value='Variables:')\n",
            "Row(value='')\n",
            "Row(value='trip_id: ID attached to each trip taken')\n",
            "Row(value='starttime: day and time trip started, in CST')\n",
            "Row(value='stoptime: day and time trip ended, in CST')\n",
            "Row(value='bikeid: ID attached to each bike')\n",
            "Row(value='tripduration: time of trip in seconds ')\n",
            "Row(value='from_station_name: name of station where trip originated')\n",
            "Row(value='to_station_name: name of station where trip terminated ')\n",
            "Row(value='from_station_id: ID of station where trip originated')\n",
            "Row(value='to_station_id: ID of station where trip terminated')\n",
            "Row(value='usertype: \"Customer\" is a rider who purchased a 24-Hour Pass; \"Subscriber\" is a rider who purchased an Annual Membership')\n",
            "Row(value='gender: gender of rider ')\n",
            "Row(value='birthyear: birth year of rider')\n",
            "Row(value='')\n",
            "Row(value='')\n",
            "Row(value='Notes:')\n",
            "Row(value='')\n",
            "Row(value='* First row contains column names')\n",
            "Row(value='* Total records = ')\n",
            "Row(value='Q3-07 = 410,340')\n",
            "Row(value='Q3-0809 = 700,630')\n",
            "Row(value='Q4 = 437,965')\n",
            "Row(value='* Trips that did not include a start or end date were removed from original table.')\n",
            "Row(value='* Gender and birthday are only available for Subscribers')\n",
            "Row(value='')\n",
            "Row(value='')\n",
            "Row(value='')\n",
            "Row(value='Metadata for Stations table:')\n",
            "Row(value='')\n",
            "Row(value='Variables:')\n",
            "Row(value='')\n",
            "Row(value='name: station name    ')\n",
            "Row(value='latitude: station latitude')\n",
            "Row(value='longitude: station longitude')\n",
            "Row(value='dpcapacity: number of total docks at each station as of 12/31/2014')\n",
            "Row(value='online date: date the station went live in the system')\n"
          ]
        }
      ]
    },
    {
      "cell_type": "code",
      "source": [
        "!ls"
      ],
      "metadata": {
        "colab": {
          "base_uri": "https://localhost:8080/"
        },
        "id": "pr4HNL10_e93",
        "outputId": "f45ab86c-7e12-4cf8-ccc3-4894cb89355a"
      },
      "execution_count": null,
      "outputs": [
        {
          "output_type": "stream",
          "name": "stdout",
          "text": [
            "'10a. Journey Data Extract 14Sep14-27Sep14.csv'\n",
            "'10b. Journey Data Extract 28Sep14-11Oct14.csv'\n",
            "'11a. Journey Data Extract 12Oct14-08Nov14.csv'\n",
            "'11b. Journey Data Extract 12Oct14-08Nov14.csv'\n",
            "'12a. Journey Data Extract 09Nov14-06Dec14.csv'\n",
            "'12b. Journey Data Extract 09Nov14-06Dec14.csv'\n",
            "'13a. Journey Data Extract 07Dec14-21Dec14.csv'\n",
            "'13b. Journey Data Extract 22Dec14-03Jan15.csv'\n",
            "'14. Journey Data Extract 08Dec13-04Jan14.csv'\n",
            "'1. Journey Data Extract 05Jan14-02Feb14.csv'\n",
            "'2. Journey Data Extract 03Feb14-01Mar14.csv'\n",
            "'3. Journey Data Extract 02Mar14-31Mar14.csv'\n",
            "'4. Journey Data Extract 01Apr14-26Apr14.csv'\n",
            "'5. Journey Data Extract 27Apr14-24May14.csv'\n",
            "'6. Journey Data Extract 25May14-21Jun14.csv'\n",
            "'7. Journey Data Extract 22Jun14-19Jul14.csv'\n",
            "'8a Journey Data Extract 20Jul14-31Jul14.csv'\n",
            "'8b Journey Data Extract 01Aug14-16Aug14.csv'\n",
            "'9a Journey Data Extract 17Aug14-31Aug14.csv'\n",
            "'9b Journey Data Extract 01Sep14-13Sep14.csv'\n",
            " cyclehireusagestats-2014.zip\n",
            " Divvy_Stations_Trips_2014_Q3Q4\n",
            " Divvy_Stations_Trips_2014_Q3Q4.zip\n",
            " drive\n",
            " sample_data\n",
            " spark-3.3.2-bin-hadoop3\n",
            " spark-3.3.2-bin-hadoop3.tgz\n"
          ]
        }
      ]
    },
    {
      "cell_type": "code",
      "source": [
        "#changing the directory to the unzipped folder to retrieve the data\n",
        "!cd Divvy_Stations_Trips_2014_Q3Q4"
      ],
      "metadata": {
        "id": "w9RWz_Nh_jVl"
      },
      "execution_count": null,
      "outputs": []
    },
    {
      "cell_type": "code",
      "source": [
        "!pwd"
      ],
      "metadata": {
        "colab": {
          "base_uri": "https://localhost:8080/"
        },
        "id": "DaYS6DOp_y0k",
        "outputId": "b7bea2e3-e9d0-4dc7-c932-56b622bef5b6"
      },
      "execution_count": null,
      "outputs": [
        {
          "output_type": "stream",
          "name": "stdout",
          "text": [
            "/content\n"
          ]
        }
      ]
    },
    {
      "cell_type": "code",
      "source": [
        "#The basic details of the dataset is available in the readme file. For more details regarding the dates and characteristics of data available lets load and check the dataset.\n",
        "data1 = (spark.read.format(\"csv\")\n",
        "         .option(\"header\", \"true\")\n",
        "         .option(\"inferSchema\", \"true\")\n",
        "         .load(['Divvy_Stations_Trips_2014_Q3Q4']))"
      ],
      "metadata": {
        "id": "dKUqKCm02sCb"
      },
      "execution_count": null,
      "outputs": []
    },
    {
      "cell_type": "code",
      "source": [
        "data1.count()"
      ],
      "metadata": {
        "colab": {
          "base_uri": "https://localhost:8080/"
        },
        "id": "zVBX3Mxx2r_7",
        "outputId": "c08b0902-7565-42a2-de26-0c23b0155a72"
      },
      "execution_count": null,
      "outputs": [
        {
          "output_type": "execute_result",
          "data": {
            "text/plain": [
              "1549363"
            ]
          },
          "metadata": {},
          "execution_count": 21
        }
      ]
    },
    {
      "cell_type": "code",
      "source": [
        "data1.show(5)"
      ],
      "metadata": {
        "colab": {
          "base_uri": "https://localhost:8080/"
        },
        "id": "ZI6KnieN2r9u",
        "outputId": "e020b4f9-6b6b-45e5-83fb-15c1bdb940ce"
      },
      "execution_count": null,
      "outputs": [
        {
          "output_type": "stream",
          "name": "stdout",
          "text": [
            "+-------+---------------+--------------+------+------------+---------------+--------------------+-------------+--------------------+----------+------+---------+\n",
            "|trip_id|      starttime|      stoptime|bikeid|tripduration|from_station_id|   from_station_name|to_station_id|     to_station_name|  usertype|gender|birthyear|\n",
            "+-------+---------------+--------------+------+------------+---------------+--------------------+-------------+--------------------+----------+------+---------+\n",
            "|3810750|9/30/2014 23:59|10/1/2014 0:06|   851|         411|            177| Theater on the Lake|          143|Sedgwick St & Web...|Subscriber|  Male|     1982|\n",
            "|3810749|9/30/2014 23:59|10/1/2014 0:01|   989|         142|            277|Ashland Ave & Gra...|          285| Wood St & Grand Ave|Subscriber|  Male|     1983|\n",
            "|3810748|9/30/2014 23:59|10/1/2014 0:03|   261|         279|             48|Larrabee St & Kin...|          110|  State St & Erie St|Subscriber|  Male|     1988|\n",
            "|3810746|9/30/2014 23:58|10/1/2014 0:15|   806|        1031|             58|Marshfield Ave & ...|          318|Southport Ave & I...|  Customer|  null|     null|\n",
            "|3810745|9/30/2014 23:58|10/1/2014 0:05|   104|         437|            127|Lincoln Ave & Ful...|           94|Clark St & Armita...|Subscriber|  Male|     1957|\n",
            "+-------+---------------+--------------+------+------------+---------------+--------------------+-------------+--------------------+----------+------+---------+\n",
            "only showing top 5 rows\n",
            "\n"
          ]
        }
      ]
    },
    {
      "cell_type": "code",
      "source": [
        "data1.printSchema()"
      ],
      "metadata": {
        "colab": {
          "base_uri": "https://localhost:8080/"
        },
        "id": "mg6n1YmIClAf",
        "outputId": "215df79c-5ad8-41e3-f855-ea8a6f9b4dc7"
      },
      "execution_count": null,
      "outputs": [
        {
          "output_type": "stream",
          "name": "stdout",
          "text": [
            "root\n",
            " |-- trip_id: string (nullable = true)\n",
            " |-- starttime: string (nullable = true)\n",
            " |-- stoptime: string (nullable = true)\n",
            " |-- bikeid: string (nullable = true)\n",
            " |-- tripduration: string (nullable = true)\n",
            " |-- from_station_id: string (nullable = true)\n",
            " |-- from_station_name: string (nullable = true)\n",
            " |-- to_station_id: integer (nullable = true)\n",
            " |-- to_station_name: string (nullable = true)\n",
            " |-- usertype: string (nullable = true)\n",
            " |-- gender: string (nullable = true)\n",
            " |-- birthyear: integer (nullable = true)\n",
            "\n"
          ]
        }
      ]
    },
    {
      "cell_type": "code",
      "source": [
        "#spark.conf.set(\"spark.sql.execution.arrow.pyspark.enabled\", \"true\")\n",
        "spark.sql(\"set spark.sql.legacy.timeParserPolicy=LEGACY\")"
      ],
      "metadata": {
        "colab": {
          "base_uri": "https://localhost:8080/"
        },
        "id": "s4oMK-AYAXAC",
        "outputId": "3eb13db8-4d13-48cb-e968-53fc7ef576a8"
      },
      "execution_count": null,
      "outputs": [
        {
          "output_type": "execute_result",
          "data": {
            "text/plain": [
              "DataFrame[key: string, value: string]"
            ]
          },
          "metadata": {},
          "execution_count": 63
        }
      ]
    },
    {
      "cell_type": "code",
      "source": [
        " #creating a dataframe with only required columns\n",
        "#Chicago = data1.select(col(\"trip_id\").alias(\"Id\"), col(\"starttime\").alias(\"startTime\"), col(\"tripduration\").alias(\"Duration\"))\n",
        "from pyspark.sql import functions as fn\n",
        "Chicago = data1.select(fn.to_timestamp(col(\"starttime\"), \\\n",
        "                                                format=\"M/dd/yyyy HH:mm\").alias(\"Starttime\"), col(\"tripduration\").alias(\"Duration\"), col(\"trip_id\").alias(\"Id\"))"
      ],
      "metadata": {
        "id": "__oFwPT1HMAh"
      },
      "execution_count": null,
      "outputs": []
    },
    {
      "cell_type": "code",
      "source": [
        "Chicago.printSchema()"
      ],
      "metadata": {
        "colab": {
          "base_uri": "https://localhost:8080/"
        },
        "id": "xd2dhpfhOEZs",
        "outputId": "62351ebb-4d28-4dba-b7f5-169bd2ac6279"
      },
      "execution_count": null,
      "outputs": [
        {
          "output_type": "stream",
          "name": "stdout",
          "text": [
            "root\n",
            " |-- Starttime: timestamp (nullable = true)\n",
            " |-- Duration: string (nullable = true)\n",
            " |-- Id: string (nullable = true)\n",
            "\n"
          ]
        }
      ]
    },
    {
      "cell_type": "code",
      "source": [
        "Chicago.show(5)"
      ],
      "metadata": {
        "colab": {
          "base_uri": "https://localhost:8080/"
        },
        "id": "p2ZRws9KParU",
        "outputId": "e060910c-d5db-4d24-d609-4e5c7037ba67"
      },
      "execution_count": null,
      "outputs": [
        {
          "output_type": "stream",
          "name": "stdout",
          "text": [
            "+-------------------+--------+-------+\n",
            "|          Starttime|Duration|     Id|\n",
            "+-------------------+--------+-------+\n",
            "|2014-09-30 23:59:00|     411|3810750|\n",
            "|2014-09-30 23:59:00|     142|3810749|\n",
            "|2014-09-30 23:59:00|     279|3810748|\n",
            "|2014-09-30 23:58:00|    1031|3810746|\n",
            "|2014-09-30 23:58:00|     437|3810745|\n",
            "+-------------------+--------+-------+\n",
            "only showing top 5 rows\n",
            "\n"
          ]
        }
      ]
    },
    {
      "cell_type": "code",
      "source": [
        "#Removing the duplicates\n",
        "Chicago1 = Chicago.drop_duplicates()\n",
        "print(Chicago.count(),Chicago1.count())"
      ],
      "metadata": {
        "colab": {
          "base_uri": "https://localhost:8080/"
        },
        "id": "Lo5GLc0ZNMjt",
        "outputId": "981d6987-dcb8-4161-8a11-17d6a14cfc88"
      },
      "execution_count": null,
      "outputs": [
        {
          "output_type": "stream",
          "name": "stdout",
          "text": [
            "1549363 1549362\n"
          ]
        }
      ]
    },
    {
      "cell_type": "markdown",
      "source": [
        "The count after deduplicating has changed means the data had duplicates."
      ],
      "metadata": {
        "id": "68IZx8UkQybn"
      }
    },
    {
      "cell_type": "code",
      "source": [
        "#Lets check the min and maximum dates available in the dataset\n",
        "Chicago1.agg({\"starttime\": \"min\"}).show()\n",
        "Chicago1.agg({\"starttime\": \"max\"}).show()"
      ],
      "metadata": {
        "colab": {
          "base_uri": "https://localhost:8080/"
        },
        "id": "I4Y27DvmOL-U",
        "outputId": "ae10ad1f-c27b-4c5a-db47-1093bbc63834"
      },
      "execution_count": null,
      "outputs": [
        {
          "output_type": "stream",
          "name": "stdout",
          "text": [
            "+-------------------+\n",
            "|     min(starttime)|\n",
            "+-------------------+\n",
            "|2014-07-01 00:16:00|\n",
            "+-------------------+\n",
            "\n",
            "+-------------------+\n",
            "|     max(starttime)|\n",
            "+-------------------+\n",
            "|2014-12-31 23:54:00|\n",
            "+-------------------+\n",
            "\n"
          ]
        }
      ]
    },
    {
      "cell_type": "markdown",
      "source": [
        "The data from 1 July'14 - 31 December'14 is available in the Chicago dataset."
      ],
      "metadata": {
        "id": "K2J2pU1cRI3P"
      }
    },
    {
      "cell_type": "code",
      "source": [
        "#Check for missing values autumn columns\n",
        "null_Chicago_Id = Chicago1.where(col(\"Id\").isNull()).count()\n",
        "null_Chicago_starttime= Chicago1.where(col(\"starttime\").isNull()).count()\n",
        "null_Chicago_Duration = Chicago1.where(col(\"Duration\").isNull()).count()\n",
        "print(null_Chicago_Id, null_Chicago_starttime, null_Chicago_Duration)"
      ],
      "metadata": {
        "colab": {
          "base_uri": "https://localhost:8080/"
        },
        "id": "oiDe9ELsOL0E",
        "outputId": "2cac771c-4f37-41e0-f8bc-db7c25a21f4c"
      },
      "execution_count": null,
      "outputs": [
        {
          "output_type": "stream",
          "name": "stdout",
          "text": [
            "0 427 127\n"
          ]
        }
      ]
    },
    {
      "cell_type": "code",
      "source": [
        "#Removing the null rows from the dataset\n",
        "Chicago2 = Chicago1.na.drop()"
      ],
      "metadata": {
        "id": "LTm2PnvmOLs2"
      },
      "execution_count": null,
      "outputs": []
    },
    {
      "cell_type": "markdown",
      "source": [
        "## 4 RESEARCH HYPOTHESIS:\n",
        "<br>Based the analysis of data from Chicago dataset and understanding of data from London dataset which was performed for Research Hypothesis1, formulating the below Reserach Hypothesis.\n",
        "###\"In 2014 September month, the most short Duration rides(<10mins) has happened in Chicago\" "
      ],
      "metadata": {
        "id": "d48pt3KQVkLF"
      }
    },
    {
      "cell_type": "code",
      "source": [
        "#Taking the required data from the Chicago dataset\n",
        "Chicago_sep = Chicago2.filter((Chicago2['Starttime'] >= \"2014-09-01 00:00:00\") & (Chicago2['Starttime'] < \"2014-10-01 00:00:00\"))\n",
        "Chicago_sep.count()"
      ],
      "metadata": {
        "colab": {
          "base_uri": "https://localhost:8080/"
        },
        "id": "N45M-mLVXO9W",
        "outputId": "4a680e0a-186f-4566-9eed-35443198d730"
      },
      "execution_count": null,
      "outputs": [
        {
          "output_type": "execute_result",
          "data": {
            "text/plain": [
              "308513"
            ]
          },
          "metadata": {},
          "execution_count": 76
        }
      ]
    },
    {
      "cell_type": "code",
      "source": [
        "Chicago_sep.printSchema()"
      ],
      "metadata": {
        "colab": {
          "base_uri": "https://localhost:8080/"
        },
        "id": "VFbgXFQwgAF4",
        "outputId": "d5b60837-3d1c-4b86-ce98-be45052dd12a"
      },
      "execution_count": null,
      "outputs": [
        {
          "output_type": "stream",
          "name": "stdout",
          "text": [
            "root\n",
            " |-- Starttime: timestamp (nullable = true)\n",
            " |-- Duration: string (nullable = true)\n",
            " |-- Id: string (nullable = true)\n",
            "\n"
          ]
        }
      ]
    },
    {
      "cell_type": "code",
      "source": [
        "from pyspark.sql.types import IntegerType\n",
        "Chicago_sep = Chicago_sep.withColumn(\"Duration\", col(\"Duration\").cast(IntegerType()))\n",
        "Chicago_sep = Chicago_sep.withColumn(\"Id\", col(\"Id\").cast(IntegerType()))"
      ],
      "metadata": {
        "id": "YWnqDaQYgLxH"
      },
      "execution_count": null,
      "outputs": []
    },
    {
      "cell_type": "markdown",
      "source": [
        "## 5 LOADING AND ANALYSING LONDON DATASET"
      ],
      "metadata": {
        "id": "qlCaXzHATPJ-"
      }
    },
    {
      "cell_type": "markdown",
      "source": [
        "As per the research hypothesis the data required from the london dataset is September data.\n",
        "<br>9b 01Sep14-13Sep14.csv\n",
        "<br>10a. 14Sep14-27Sep14.csv\n",
        "<br>10b. 28Sep14-11Oct14.csv "
      ],
      "metadata": {
        "id": "zJQPbVgBVG6Z"
      }
    },
    {
      "cell_type": "code",
      "source": [
        "data2 = (spark.read.format(\"csv\")\n",
        "         .option(\"header\", \"true\")\n",
        "         .option(\"inferSchema\", \"true\")\n",
        "         .load(['./10a.*csv', './10b.*csv', './9b*csv']))"
      ],
      "metadata": {
        "id": "UYRri-EtTBjB"
      },
      "execution_count": null,
      "outputs": []
    },
    {
      "cell_type": "code",
      "source": [
        "data2.printSchema()"
      ],
      "metadata": {
        "colab": {
          "base_uri": "https://localhost:8080/"
        },
        "id": "rDLsIcRdXN7N",
        "outputId": "bd46bcb1-8c60-48fc-fc76-3ad223f6fa14"
      },
      "execution_count": null,
      "outputs": [
        {
          "output_type": "stream",
          "name": "stdout",
          "text": [
            "root\n",
            " |-- Rental Id: string (nullable = true)\n",
            " |-- Duration: string (nullable = true)\n",
            " |-- Bike Id: string (nullable = true)\n",
            " |-- End Date: string (nullable = true)\n",
            " |-- EndStation Id: string (nullable = true)\n",
            " |-- EndStation Name: string (nullable = true)\n",
            " |-- Start Date: string (nullable = true)\n",
            " |-- StartStation Id: string (nullable = true)\n",
            " |-- StartStation Name: string (nullable = true)\n",
            " |-- _c9: string (nullable = true)\n",
            " |-- _c10: string (nullable = true)\n",
            " |-- _c11: string (nullable = true)\n",
            "\n"
          ]
        }
      ]
    },
    {
      "cell_type": "code",
      "source": [
        "data2.show(10)"
      ],
      "metadata": {
        "colab": {
          "base_uri": "https://localhost:8080/"
        },
        "id": "FVk0hW0FYleZ",
        "outputId": "b0bb1b53-2713-4086-fb42-08fffacc4976"
      },
      "execution_count": null,
      "outputs": [
        {
          "output_type": "stream",
          "name": "stdout",
          "text": [
            "+---------+--------+-------+----------------+-------------+--------------------+----------------+---------------+--------------------+----+----+----+\n",
            "|Rental Id|Duration|Bike Id|        End Date|EndStation Id|     EndStation Name|      Start Date|StartStation Id|   StartStation Name| _c9|_c10|_c11|\n",
            "+---------+--------+-------+----------------+-------------+--------------------+----------------+---------------+--------------------+----+----+----+\n",
            "| 37875851|     120|   3229|28/09/2014 00:02|          450|Jubilee Street, S...|28/09/2014 00:00|            443|Philpot Street, W...|null|null|null|\n",
            "| 37875861|    1080|   3283|28/09/2014 00:18|          645|Great Suffolk Str...|28/09/2014 00:00|             14|Belgrove Street ,...|null|null|null|\n",
            "| 37875857|    2820|  11369|28/09/2014 00:47|          727|Chesilton Road, F...|28/09/2014 00:00|            321|Bermondsey Street...|null|null|null|\n",
            "| 37875849|    1620|  11362|28/09/2014 00:27|          719|Victoria Park Roa...|28/09/2014 00:00|            773|Tallis Street, Te...|null|null|null|\n",
            "| 37875847|     480|   7711|28/09/2014 00:08|          553|Regent's Row , Ha...|28/09/2014 00:00|            717|Dunston Road , Ha...|null|null|null|\n",
            "| 37875855|    1080|  11303|28/09/2014 00:18|          499|    Furze Green, Bow|28/09/2014 00:00|            282|Royal London Hosp...|null|null|null|\n",
            "| 37875850|    1380|  10895|28/09/2014 00:23|          505|  Ackroyd Drive, Bow|28/09/2014 00:00|            553|Regent's Row , Ha...|null|null|null|\n",
            "| 37875854|    3060|    530|28/09/2014 00:51|          272|Baylis Road, Wate...|28/09/2014 00:00|            284|Lambeth North Sta...|null|null|null|\n",
            "| 37875852|    3060|   9026|28/09/2014 00:51|          272|Baylis Road, Wate...|28/09/2014 00:00|            284|Lambeth North Sta...|null|null|null|\n",
            "| 37875859|    9600|    364|28/09/2014 02:40|          341|Craven Street, St...|28/09/2014 00:00|            273|Belvedere Road, S...|null|null|null|\n",
            "+---------+--------+-------+----------------+-------------+--------------------+----------------+---------------+--------------------+----+----+----+\n",
            "only showing top 10 rows\n",
            "\n"
          ]
        }
      ]
    },
    {
      "cell_type": "code",
      "source": [
        "#Changing the datatype of Start Date column\n",
        "data2 = data2.withColumn(\"start Date\", to_timestamp(\"start Date\", \"dd/MM/yyyy HH:mm\"))"
      ],
      "metadata": {
        "id": "_q3jwX89Yrow"
      },
      "execution_count": null,
      "outputs": []
    },
    {
      "cell_type": "code",
      "source": [
        "data2.printSchema()"
      ],
      "metadata": {
        "colab": {
          "base_uri": "https://localhost:8080/"
        },
        "id": "RC6gSV4-Y23E",
        "outputId": "f8d1c9d4-d8bc-47a7-c593-19fdd947ac6b"
      },
      "execution_count": null,
      "outputs": [
        {
          "output_type": "stream",
          "name": "stdout",
          "text": [
            "root\n",
            " |-- Rental Id: string (nullable = true)\n",
            " |-- Duration: string (nullable = true)\n",
            " |-- Bike Id: string (nullable = true)\n",
            " |-- End Date: string (nullable = true)\n",
            " |-- EndStation Id: string (nullable = true)\n",
            " |-- EndStation Name: string (nullable = true)\n",
            " |-- start Date: timestamp (nullable = true)\n",
            " |-- StartStation Id: string (nullable = true)\n",
            " |-- StartStation Name: string (nullable = true)\n",
            " |-- _c9: string (nullable = true)\n",
            " |-- _c10: string (nullable = true)\n",
            " |-- _c11: string (nullable = true)\n",
            "\n"
          ]
        }
      ]
    },
    {
      "cell_type": "code",
      "source": [
        "#Selecting the required date records\n",
        "london = data2.filter(data2['Start Date'] >= \"2014-09-01 00:00:00\")\\\n",
        ".filter(data2['Start Date'] < \"2014-10-01 00:00:00\").select(col(\"start Date\").alias(\"Starttime\"), \n",
        "                     col(\"Duration\").alias(\"Duration\"), \n",
        "                     col(\"Rental Id\").alias(\"Id\"))\n",
        "london.count()"
      ],
      "metadata": {
        "colab": {
          "base_uri": "https://localhost:8080/"
        },
        "id": "1GgOF2P3Y437",
        "outputId": "d8c5186f-41ec-4b2a-99ad-ea386b908355"
      },
      "execution_count": null,
      "outputs": [
        {
          "output_type": "execute_result",
          "data": {
            "text/plain": [
              "1046460"
            ]
          },
          "metadata": {},
          "execution_count": 84
        }
      ]
    },
    {
      "cell_type": "code",
      "source": [
        "#Verifying the dates\n",
        "london.agg({\"Starttime\": \"min\"}).show()\n",
        "london.agg({\"Starttime\": \"max\"}).show()"
      ],
      "metadata": {
        "colab": {
          "base_uri": "https://localhost:8080/"
        },
        "id": "79XgubHzZygi",
        "outputId": "d3cec0c0-67ce-42ee-a629-43ad74bfb766"
      },
      "execution_count": null,
      "outputs": [
        {
          "output_type": "stream",
          "name": "stdout",
          "text": [
            "+-------------------+\n",
            "|     min(Starttime)|\n",
            "+-------------------+\n",
            "|2014-09-01 00:00:00|\n",
            "+-------------------+\n",
            "\n",
            "+-------------------+\n",
            "|     max(Starttime)|\n",
            "+-------------------+\n",
            "|2014-09-30 23:59:00|\n",
            "+-------------------+\n",
            "\n"
          ]
        }
      ]
    },
    {
      "cell_type": "code",
      "source": [
        "#Check for duplicates autumn\n",
        "london1 = london.drop_duplicates()\n",
        "print(london.count(), london1.count())"
      ],
      "metadata": {
        "colab": {
          "base_uri": "https://localhost:8080/"
        },
        "id": "I9HAo9mXaDyf",
        "outputId": "2091dd66-adf4-4ae4-dfd4-ff11b6009e63"
      },
      "execution_count": null,
      "outputs": [
        {
          "output_type": "stream",
          "name": "stdout",
          "text": [
            "1046460 1046460\n"
          ]
        }
      ]
    },
    {
      "cell_type": "markdown",
      "source": [
        "There are no duplicates in the dataset."
      ],
      "metadata": {
        "id": "poYkXlb5adKa"
      }
    },
    {
      "cell_type": "code",
      "source": [
        "#Check for missing values autumn columns\n",
        "null_london_Id = london1.where(col(\"Id\").isNull()).count()\n",
        "null_london_starttime= london1.where(col(\"starttime\").isNull()).count()\n",
        "null_london_Duration = london1.where(col(\"Duration\").isNull()).count()\n",
        "print(null_london_Id, null_london_starttime, null_london_Duration)"
      ],
      "metadata": {
        "colab": {
          "base_uri": "https://localhost:8080/"
        },
        "id": "7YhWTSZeaQa1",
        "outputId": "0c8a0581-b6f7-463e-d35d-4f9b3a369fdf"
      },
      "execution_count": null,
      "outputs": [
        {
          "output_type": "stream",
          "name": "stdout",
          "text": [
            "0 0 0\n"
          ]
        }
      ]
    },
    {
      "cell_type": "markdown",
      "source": [
        "There are no missing values in the data."
      ],
      "metadata": {
        "id": "8o9VnJKBbPJA"
      }
    },
    {
      "cell_type": "code",
      "source": [
        "london_sep = london1.withColumn(\"Duration\", col(\"Duration\").cast(IntegerType()))\n",
        "london_sep = london1.withColumn(\"Id\", col(\"Id\").cast(IntegerType()))"
      ],
      "metadata": {
        "id": "CfSduR4FbSfl"
      },
      "execution_count": null,
      "outputs": []
    },
    {
      "cell_type": "markdown",
      "source": [
        "##6 DATA EXPLORATION"
      ],
      "metadata": {
        "id": "XiGbSCrxg32H"
      }
    },
    {
      "cell_type": "code",
      "source": [
        "#Lets create a new column in both the dataset mentioning the city\n",
        "from pyspark.sql.functions import lit\n",
        "Chicago_sep = Chicago_sep.withColumn(\"City\", lit(\"Chicago\"))\n",
        "london_sep = london_sep.withColumn(\"City\", lit(\"London\"))"
      ],
      "metadata": {
        "id": "d-fxNCW3glNj"
      },
      "execution_count": null,
      "outputs": []
    },
    {
      "cell_type": "code",
      "source": [
        "#Lets create a union of both datasets into one for further analysis\n",
        "sept = Chicago_sep.union(london_sep)\n",
        "print(Chicago_sep.count(), london_sep.count(),sept.count())"
      ],
      "metadata": {
        "colab": {
          "base_uri": "https://localhost:8080/"
        },
        "id": "vbTtSx_wiOiI",
        "outputId": "a4e82d44-46af-4727-fde5-20bad934bec1"
      },
      "execution_count": null,
      "outputs": [
        {
          "output_type": "stream",
          "name": "stdout",
          "text": [
            "308513 1046460 1354973\n"
          ]
        }
      ]
    },
    {
      "cell_type": "code",
      "source": [
        "sept.groupBy(\"City\").agg(count(\"*\").alias(\"Count\")).show()"
      ],
      "metadata": {
        "colab": {
          "base_uri": "https://localhost:8080/"
        },
        "id": "kNgHFtGYkMcz",
        "outputId": "5925b0a2-dc29-464a-fbb8-ba5037fa43bd"
      },
      "execution_count": null,
      "outputs": [
        {
          "output_type": "stream",
          "name": "stdout",
          "text": [
            "+-------+-------+\n",
            "|   City|  Count|\n",
            "+-------+-------+\n",
            "|Chicago| 308513|\n",
            "| London|1046460|\n",
            "+-------+-------+\n",
            "\n"
          ]
        }
      ]
    },
    {
      "cell_type": "markdown",
      "source": [
        "FINDING AND REMOVING NOISE"
      ],
      "metadata": {
        "id": "17loarsqlL1S"
      }
    },
    {
      "cell_type": "code",
      "source": [
        "#The records with Duration <= 0 are noise\n",
        "Chicago_sep.filter(col('Duration') <= 0).agg(count(\"*\").alias(\"Count\")).show()\n",
        "london_sep.filter(col('Duration') <= 0).agg(count(\"*\").alias(\"Count\")).show()\n",
        "sept.filter(col('Duration') <= 0).agg(count(\"*\").alias(\"Count\")).show()"
      ],
      "metadata": {
        "colab": {
          "base_uri": "https://localhost:8080/"
        },
        "id": "LryfroXTlJ8u",
        "outputId": "23849920-e6de-4dfa-cdc3-858246f81665"
      },
      "execution_count": null,
      "outputs": [
        {
          "output_type": "stream",
          "name": "stdout",
          "text": [
            "+-----+\n",
            "|Count|\n",
            "+-----+\n",
            "|    0|\n",
            "+-----+\n",
            "\n",
            "+-----+\n",
            "|Count|\n",
            "+-----+\n",
            "| 3006|\n",
            "+-----+\n",
            "\n",
            "+-----+\n",
            "|Count|\n",
            "+-----+\n",
            "| 3006|\n",
            "+-----+\n",
            "\n"
          ]
        }
      ]
    },
    {
      "cell_type": "code",
      "source": [
        "#Removing the noise from london data as chicago data doesnot include any noise data\n",
        "london_sep = london_sep.filter(col('Duration') > 0)\n",
        "sept1 = sept.filter(col('Duration') > 0)"
      ],
      "metadata": {
        "id": "RmBFx96sltgD"
      },
      "execution_count": null,
      "outputs": []
    },
    {
      "cell_type": "code",
      "source": [
        "london_sep = london_sep.withColumn(\"Duration\", col(\"Duration\").cast(IntegerType()))"
      ],
      "metadata": {
        "id": "efgNqK7YsqKz"
      },
      "execution_count": null,
      "outputs": []
    },
    {
      "cell_type": "code",
      "source": [
        "london_sep.printSchema()"
      ],
      "metadata": {
        "colab": {
          "base_uri": "https://localhost:8080/"
        },
        "id": "bxHzVL0dsuXr",
        "outputId": "aa026bb8-e659-4f03-f8ec-1c3297cb23ae"
      },
      "execution_count": null,
      "outputs": [
        {
          "output_type": "stream",
          "name": "stdout",
          "text": [
            "root\n",
            " |-- Starttime: timestamp (nullable = true)\n",
            " |-- Duration: integer (nullable = true)\n",
            " |-- Id: integer (nullable = true)\n",
            "\n"
          ]
        }
      ]
    },
    {
      "cell_type": "code",
      "source": [
        "#Creating pandas dataframe for plotting purpose\n",
        "pd_Chicago_sep = Chicago_sep.toPandas()\n",
        "pd_london_sep = london_sep.toPandas()\n",
        "pd_sept = sept.toPandas()"
      ],
      "metadata": {
        "id": "wowVVx1eyB0a"
      },
      "execution_count": null,
      "outputs": []
    },
    {
      "cell_type": "code",
      "source": [
        "#Creating a sample dataset for data exploration\n",
        "Chicago_sep_sample=Chicago_sep.sample(0.004)\n",
        "london_sep_sample=london_sep.sample(0.001)\n",
        "sept_sample=sept.sample(0.001)\n",
        "print(Chicago_sep_sample.count(), london_sep_sample.count(), sept_sample.count())"
      ],
      "metadata": {
        "colab": {
          "base_uri": "https://localhost:8080/"
        },
        "id": "BrxF-zcSm22t",
        "outputId": "830764d7-62a7-4e75-af0d-6964c7721204"
      },
      "execution_count": null,
      "outputs": [
        {
          "output_type": "stream",
          "name": "stdout",
          "text": [
            "1219 1078 1362\n"
          ]
        }
      ]
    },
    {
      "cell_type": "code",
      "source": [
        "#Creating a pandas dataframe of the samples for plotting purpose\n",
        "pd_Chicago_sep_sample=Chicago_sep.sample(0.004).toPandas()\n",
        "pd_london_sep_sample=london_sep.sample(0.001).toPandas()\n",
        "pd_sept_sample=sept.sample(0.001).toPandas()"
      ],
      "metadata": {
        "id": "zbM6c2WvohI4"
      },
      "execution_count": null,
      "outputs": []
    },
    {
      "cell_type": "code",
      "source": [
        "import matplotlib.pyplot as plt\n",
        "pd_Chicago_sep_sample[[\"Duration\"]].plot(kind=\"hist\", bins=100, log=True)\n",
        "plt.xlim(0,20000)\n",
        "plt.show()"
      ],
      "metadata": {
        "colab": {
          "base_uri": "https://localhost:8080/",
          "height": 430
        },
        "id": "uMNrHFyvndLq",
        "outputId": "1a120038-8535-4b3c-dc4b-906cc26a49cb"
      },
      "execution_count": null,
      "outputs": [
        {
          "output_type": "display_data",
          "data": {
            "text/plain": [
              "<Figure size 640x480 with 1 Axes>"
            ],
            "image/png": "[encoded data removed]"
          },
          "metadata": {}
        }
      ]
    },
    {
      "cell_type": "code",
      "source": [
        "pd_london_sep_sample[[\"Duration\"]].plot(kind=\"hist\", bins=100, log=True)\n",
        "plt.xlim(0,20000)\n",
        "plt.show()"
      ],
      "metadata": {
        "colab": {
          "base_uri": "https://localhost:8080/",
          "height": 430
        },
        "id": "3s2B3lUSm2ev",
        "outputId": "9682d684-cd4b-4e0a-e122-827d79aa9f04"
      },
      "execution_count": null,
      "outputs": [
        {
          "output_type": "display_data",
          "data": {
            "text/plain": [
              "<Figure size 640x480 with 1 Axes>"
            ],
            "image/png": "[encoded data removed]"
          },
          "metadata": {}
        }
      ]
    },
    {
      "cell_type": "markdown",
      "source": [
        "The histogram suggests london data consist of more long duration rides. But short duration rides are of our interest and the histogram suggest more frequency for the short duration rides in the london data."
      ],
      "metadata": {
        "id": "h-XgKfVVt2Dm"
      }
    },
    {
      "cell_type": "markdown",
      "source": [
        "IDENTYFYING AND REMOVING OUTLIERS"
      ],
      "metadata": {
        "id": "BlBcnwa4mc2i"
      }
    },
    {
      "cell_type": "code",
      "source": [
        "import matplotlib.pyplot as plt\n",
        "import seaborn as sns\n",
        "sns.boxplot(x = pd_Chicago_sep['Duration'])\n",
        "plt.title('Chicago')\n",
        "plt.xlim(0,4000)\n",
        "plt.show()"
      ],
      "metadata": {
        "colab": {
          "base_uri": "https://localhost:8080/",
          "height": 472
        },
        "id": "w15lemIVlskq",
        "outputId": "b430ca94-137c-43c0-83bd-c095dfc0b1ca"
      },
      "execution_count": null,
      "outputs": [
        {
          "output_type": "display_data",
          "data": {
            "text/plain": [
              "<Figure size 640x480 with 1 Axes>"
            ],
            "image/png": "[encoded data removed]"
          },
          "metadata": {}
        }
      ]
    },
    {
      "cell_type": "code",
      "source": [
        "#The data above 2400 are outliers hence can be removed\n",
        "Chicago_sep_final = Chicago_sep.filter(Chicago_sep['Duration'] <= 2400)"
      ],
      "metadata": {
        "id": "IYblxS3elsEm"
      },
      "execution_count": null,
      "outputs": []
    },
    {
      "cell_type": "code",
      "source": [
        "import matplotlib.pyplot as plt\n",
        "import seaborn as sns\n",
        "sns.boxplot(x = pd_london_sep['Duration'])\n",
        "plt.title('London')\n",
        "plt.xlim(0,4000)\n",
        "plt.show()"
      ],
      "metadata": {
        "colab": {
          "base_uri": "https://localhost:8080/",
          "height": 472
        },
        "id": "1Oy4sXcmiNcs",
        "outputId": "1317d060-6d0d-49c7-bb73-44a76b58d633"
      },
      "execution_count": null,
      "outputs": [
        {
          "output_type": "display_data",
          "data": {
            "text/plain": [
              "<Figure size 640x480 with 1 Axes>"
            ],
            "image/png": "[encoded data removed]"
          },
          "metadata": {}
        }
      ]
    },
    {
      "cell_type": "code",
      "source": [
        "#The data above 2600 are outliers hence can be removed\n",
        "london_sep_final = london_sep.filter(london_sep['Duration'] <= 2600)"
      ],
      "metadata": {
        "id": "b0eY6TNziNCo"
      },
      "execution_count": null,
      "outputs": []
    },
    {
      "cell_type": "markdown",
      "source": [
        "## 7 HYPOTHESIS ANALYSIS"
      ],
      "metadata": {
        "id": "5RDeV90uzpC4"
      }
    },
    {
      "cell_type": "markdown",
      "source": [
        "Hypothesis statement: \"In 2014 September month, the most short Duration rides(10mins) has happened in Chicago\""
      ],
      "metadata": {
        "id": "C4YDbFKozwaI"
      }
    },
    {
      "cell_type": "code",
      "source": [
        "#We are interested in the short duration rides. hence lets subset the short duration rides data\n",
        "chicago_Short = Chicago_sep_final.filter(Chicago_sep_final['Duration'] <= 600)\n",
        "london_Short = london_sep_final.filter(london_sep_final['Duration'] <= 600)\n",
        "sept_Short = sept.filter(sept['Duration'] <= 600)\n",
        "print(chicago_Short.count(),london_Short.count(),sept_Short.count())"
      ],
      "metadata": {
        "colab": {
          "base_uri": "https://localhost:8080/"
        },
        "id": "z6KpF0Z5z_Or",
        "outputId": "0bb2df88-3cdf-4acc-a895-0a050ea70a34"
      },
      "execution_count": null,
      "outputs": [
        {
          "output_type": "stream",
          "name": "stdout",
          "text": [
            "124871 366365 491236\n"
          ]
        }
      ]
    },
    {
      "cell_type": "code",
      "source": [
        "print(Chicago_sep_final.count(),london_sep_final.count(),sept.count())"
      ],
      "metadata": {
        "colab": {
          "base_uri": "https://localhost:8080/"
        },
        "id": "jRUfMK-WyyuC",
        "outputId": "707e3dff-e633-45e0-8127-11d594a4758b"
      },
      "execution_count": null,
      "outputs": [
        {
          "output_type": "stream",
          "name": "stdout",
          "text": [
            "296463 982076 1354973\n"
          ]
        }
      ]
    },
    {
      "cell_type": "code",
      "source": [
        "#Finding the mean of short duration rides grouped by the City column\n",
        "sept_Short.groupBy(\"City\").agg(avg(\"Duration\").alias(\"MeanDuration\")).show()"
      ],
      "metadata": {
        "colab": {
          "base_uri": "https://localhost:8080/"
        },
        "id": "MAAm24uuyx4z",
        "outputId": "b325cc25-cbdc-4672-c87f-7aca4cc6aa1a"
      },
      "execution_count": null,
      "outputs": [
        {
          "output_type": "stream",
          "name": "stdout",
          "text": [
            "+-------+------------------+\n",
            "|   City|      MeanDuration|\n",
            "+-------+------------------+\n",
            "|Chicago| 374.8924169743175|\n",
            "| London|399.47260245929607|\n",
            "+-------+------------------+\n",
            "\n"
          ]
        }
      ]
    },
    {
      "cell_type": "markdown",
      "source": [
        "The mean duration of London is more that Chicago for the Short Duration rides. which means the Short Duration rides is more in London for September month in 2014."
      ],
      "metadata": {
        "id": "3dM69obd7jhA"
      }
    },
    {
      "cell_type": "code",
      "source": [
        "sept_Short.groupBy(\"City\").agg(sum(\"Duration\").alias(\"SumDuration\")).show()"
      ],
      "metadata": {
        "colab": {
          "base_uri": "https://localhost:8080/"
        },
        "id": "52OKLqeAyw94",
        "outputId": "f06175a7-d1c0-4fdb-b8f7-c39809e01b19"
      },
      "execution_count": null,
      "outputs": [
        {
          "output_type": "stream",
          "name": "stdout",
          "text": [
            "+-------+-----------+\n",
            "|   City|SumDuration|\n",
            "+-------+-----------+\n",
            "|Chicago|4.6813191E7|\n",
            "| London|1.4635278E8|\n",
            "+-------+-----------+\n",
            "\n"
          ]
        }
      ]
    },
    {
      "cell_type": "markdown",
      "source": [
        "The sum of short durations of London is more than that of Chicago which says the research hypothisis is not true."
      ],
      "metadata": {
        "id": "BlE22o_A7-zX"
      }
    },
    {
      "cell_type": "code",
      "source": [
        "fig, ax = plt.subplots()\n",
        "ax.bar(pd_sept_sample['City'], pd_sept_sample['Duration'])\n",
        "ax.set_xlabel('City')\n",
        "ax.set_ylabel('Duration (secs)')\n",
        "ax.set_title('Shortest Rides in September 2014')"
      ],
      "metadata": {
        "colab": {
          "base_uri": "https://localhost:8080/",
          "height": 489
        },
        "id": "bq21i5TE8vTd",
        "outputId": "33f0e4fa-9fe4-4aca-bf85-59c4e897d548"
      },
      "execution_count": null,
      "outputs": [
        {
          "output_type": "execute_result",
          "data": {
            "text/plain": [
              "Text(0.5, 1.0, 'Shortest Rides in September 2014')"
            ]
          },
          "metadata": {},
          "execution_count": 165
        },
        {
          "output_type": "display_data",
          "data": {
            "text/plain": [
              "<Figure size 640x480 with 1 Axes>"
            ],
            "image/png": "[encoded data removed]"
          },
          "metadata": {}
        }
      ]
    },
    {
      "cell_type": "markdown",
      "source": [
        "The barplot clearly shows that the London has more short duration rides which validates that the research hypothesis is not true."
      ],
      "metadata": {
        "id": "Vc73Mcu4Aoun"
      }
    },
    {
      "cell_type": "markdown",
      "source": [
        "##8 HYPOTHESIS TESTING"
      ],
      "metadata": {
        "id": "Tk-NxIyrA7cI"
      }
    },
    {
      "cell_type": "markdown",
      "source": [
        "The two sampled T test is used here to validate the results and see if it rejects the Hypothesis as the manual exploration result."
      ],
      "metadata": {
        "id": "0m_rSp8UBFND"
      }
    },
    {
      "cell_type": "code",
      "source": [
        "from numpy.random import seed\n",
        "from numpy.random import randn\n",
        "from numpy.random import normal\n",
        "from scipy.stats import ttest_ind"
      ],
      "metadata": {
        "id": "RLR_qRfS8tz0"
      },
      "execution_count": null,
      "outputs": []
    },
    {
      "cell_type": "code",
      "source": [
        "#Converting the dataframes to pandas dataframe\n",
        "pd_chicago_Short = chicago_Short.select('Duration').toPandas()\n",
        "pd_london_Short = london_Short.select('Duration').toPandas()"
      ],
      "metadata": {
        "id": "PAbf0E-nBrum"
      },
      "execution_count": null,
      "outputs": []
    },
    {
      "cell_type": "code",
      "source": [
        "sample1= pd_chicago_Short.sample(1000, random_state=15)\n",
        "sample2= pd_london_Short.sample(1000, random_state=15)"
      ],
      "metadata": {
        "id": "2BcnIbdI8s25"
      },
      "execution_count": null,
      "outputs": []
    },
    {
      "cell_type": "markdown",
      "source": [
        "H₀: In 2014 September month, the most short Duration rides(10mins) has happened in Chicago\n",
        "<br>H₁: In 2014 September month, the most short Duration rides(10mins) has happened in London"
      ],
      "metadata": {
        "id": "S5s5XSPKCZiB"
      }
    },
    {
      "cell_type": "code",
      "source": [
        "t_statistic, p_value = ttest_ind(sample1, sample2)\n",
        "print(\"t-statistic: \", t_statistic)\n",
        "print(\"p-value: \", p_value)"
      ],
      "metadata": {
        "colab": {
          "base_uri": "https://localhost:8080/"
        },
        "id": "hnixSjbe8r-U",
        "outputId": "c637a45f-4d5d-4fee-8d0f-9dfd7dbc647d"
      },
      "execution_count": null,
      "outputs": [
        {
          "output_type": "stream",
          "name": "stdout",
          "text": [
            "t-statistic:  [-3.38514817]\n",
            "p-value:  [0.00072516]\n"
          ]
        }
      ]
    },
    {
      "cell_type": "markdown",
      "source": [
        "alpha = 0.05\n",
        "<br>Reject the null hypothesis if p-value <= alpha\n",
        "<br>Fail to reject the null hypothesis if p-value > alpha\n",
        "\n",
        "<br>p-value from the test = 0.00072516\n",
        "<br>p-value < alpha\n",
        "<br>Hence it rejects the null hypothesis. \n",
        "<br>Hence It is again proven that London has more short duration rides.\n",
        "The research hypothesis \"In 2014 September month, the most short Duration rides(10mins) has happened in Chicago\" is not true."
      ],
      "metadata": {
        "id": "lUepyUNKDVKj"
      }
    },
    {
      "cell_type": "code",
      "source": [],
      "metadata": {
        "id": "jsB14WNL86Ge"
      },
      "execution_count": null,
      "outputs": []
    },
    {
      "cell_type": "code",
      "source": [],
      "metadata": {
        "id": "F26k4nrM85Y1"
      },
      "execution_count": null,
      "outputs": []
    },
    {
      "cell_type": "code",
      "source": [],
      "metadata": {
        "id": "gtNmyoTC84d7"
      },
      "execution_count": null,
      "outputs": []
    },
    {
      "cell_type": "code",
      "source": [],
      "metadata": {
        "id": "NyLsPtJl83iS"
      },
      "execution_count": null,
      "outputs": []
    }
  ]
}