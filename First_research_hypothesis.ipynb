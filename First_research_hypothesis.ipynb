{
  "nbformat": 4,
  "nbformat_minor": 0,
  "metadata": {
    "colab": {
      "provenance": []
    },
    "kernelspec": {
      "name": "python3",
      "display_name": "Python 3"
    },
    "language_info": {
      "name": "python"
    }
  },
  "cells": [
    {
      "cell_type": "markdown",
      "source": [
        "# First Research Hypothesis"
      ],
      "metadata": {
        "id": "F1jZQ7sCYpig"
      }
    },
    {
      "cell_type": "markdown",
      "source": [
        "## 1 Installing packages and setting up environment"
      ],
      "metadata": {
        "id": "odm0NIJrjgRr"
      }
    },
    {
      "cell_type": "code",
      "source": [
        "#Setting up Spark and all relevant dictionaries: \n",
        "!ls\n",
        "\n",
        "!apt-get install openjdk-8-jdk-headless -qq > /dev/null\n",
        "!wget https://downloads.apache.org/spark/spark-3.3.2/spark-3.3.2-bin-hadoop3.tgz\n",
        "!tar -xf spark-3.3.2-bin-hadoop3.tgz\n",
        "!ls -alt"
      ],
      "metadata": {
        "colab": {
          "base_uri": "https://localhost:8080/"
        },
        "id": "7U3-KQ6IYo-D",
        "outputId": "e4807eb0-001d-4df1-84f1-a8e93cb34945"
      },
      "execution_count": null,
      "outputs": [
        {
          "output_type": "stream",
          "name": "stdout",
          "text": [
            "sample_data\n",
            "--2023-05-13 14:40:29--  https://downloads.apache.org/spark/spark-3.3.2/spark-3.3.2-bin-hadoop3.tgz\n",
            "Resolving downloads.apache.org (downloads.apache.org)... 135.181.214.104, 88.99.95.219, 2a01:4f9:3a:2c57::2, ...\n",
            "Connecting to downloads.apache.org (downloads.apache.org)|135.181.214.104|:443... connected.\n",
            "HTTP request sent, awaiting response... 200 OK\n",
            "Length: 299360284 (285M) [application/x-gzip]\n",
            "Saving to: ‘spark-3.3.2-bin-hadoop3.tgz’\n",
            "\n",
            "spark-3.3.2-bin-had 100%[===================>] 285.49M  28.6MB/s    in 11s     \n",
            "\n",
            "2023-05-13 14:40:40 (26.8 MB/s) - ‘spark-3.3.2-bin-hadoop3.tgz’ saved [299360284/299360284]\n",
            "\n",
            "total 292368\n",
            "drwxr-xr-x  1 root root      4096 May 13 14:40 .\n",
            "drwxr-xr-x  1 root root      4096 May 13 14:36 ..\n",
            "drwxr-xr-x  1 root root      4096 May 11 16:35 sample_data\n",
            "drwxr-xr-x  4 root root      4096 May 11 16:34 .config\n",
            "-rw-r--r--  1 root root 299360284 Feb 10 21:28 spark-3.3.2-bin-hadoop3.tgz\n",
            "drwxr-xr-x 13  501 1000      4096 Feb 10 20:40 spark-3.3.2-bin-hadoop3\n"
          ]
        }
      ]
    },
    {
      "cell_type": "code",
      "source": [
        "!pip3 install findspark"
      ],
      "metadata": {
        "colab": {
          "base_uri": "https://localhost:8080/"
        },
        "id": "1ac03oAGaC-T",
        "outputId": "51657414-3ca6-4181-b883-fe458721a6da"
      },
      "execution_count": null,
      "outputs": [
        {
          "output_type": "stream",
          "name": "stdout",
          "text": [
            "Looking in indexes: https://pypi.org/simple, https://us-python.pkg.dev/colab-wheels/public/simple/\n",
            "Collecting findspark\n",
            "  Downloading findspark-2.0.1-py2.py3-none-any.whl (4.4 kB)\n",
            "Installing collected packages: findspark\n",
            "Successfully installed findspark-2.0.1\n"
          ]
        }
      ]
    },
    {
      "cell_type": "code",
      "source": [
        "from google.colab import drive\n",
        "drive.mount('/content/drive')"
      ],
      "metadata": {
        "colab": {
          "base_uri": "https://localhost:8080/"
        },
        "id": "cUvrqKLSY5Jv",
        "outputId": "a5a36cd3-0889-4c06-cd6f-b149ace4be35"
      },
      "execution_count": null,
      "outputs": [
        {
          "output_type": "stream",
          "name": "stdout",
          "text": [
            "Mounted at /content/drive\n"
          ]
        }
      ]
    },
    {
      "cell_type": "code",
      "source": [
        "import matplotlib.pyplot as plt\n",
        "import pandas as pd\n",
        "import numpy as np"
      ],
      "metadata": {
        "id": "j289ia9v81i0"
      },
      "execution_count": null,
      "outputs": []
    },
    {
      "cell_type": "code",
      "source": [
        "# Downloading and Unzipping the TFL open data for the year 2014 London bike hire\n",
        "!wget https://cycling.data.tfl.gov.uk/usage-stats/cyclehireusagestats-2014.zip\n",
        "!unzip cyclehireusagestats-2014.zip"
      ],
      "metadata": {
        "colab": {
          "base_uri": "https://localhost:8080/"
        },
        "id": "3AU0UOE3ZA-t",
        "outputId": "e6152cd1-d44a-429f-a74b-28408c7daf34"
      },
      "execution_count": null,
      "outputs": [
        {
          "output_type": "stream",
          "name": "stdout",
          "text": [
            "--2023-05-13 14:41:10--  https://cycling.data.tfl.gov.uk/usage-stats/cyclehireusagestats-2014.zip\n",
            "Resolving cycling.data.tfl.gov.uk (cycling.data.tfl.gov.uk)... 104.16.100.13, 104.16.101.13\n",
            "Connecting to cycling.data.tfl.gov.uk (cycling.data.tfl.gov.uk)|104.16.100.13|:443... connected.\n",
            "HTTP request sent, awaiting response... 200 OK\n",
            "Length: 225215129 (215M) [application/zip]\n",
            "Saving to: ‘cyclehireusagestats-2014.zip’\n",
            "\n",
            "cyclehireusagestats 100%[===================>] 214.78M  41.9MB/s    in 5.8s    \n",
            "\n",
            "2023-05-13 14:41:17 (37.2 MB/s) - ‘cyclehireusagestats-2014.zip’ saved [225215129/225215129]\n",
            "\n",
            "Archive:  cyclehireusagestats-2014.zip\n",
            "  inflating: 1. Journey Data Extract 05Jan14-02Feb14.csv  \n",
            "  inflating: 10a. Journey Data Extract 14Sep14-27Sep14.csv  \n",
            "  inflating: 10b. Journey Data Extract 28Sep14-11Oct14.csv  \n",
            "  inflating: 11a. Journey Data Extract 12Oct14-08Nov14.csv  \n",
            "  inflating: 11b. Journey Data Extract 12Oct14-08Nov14.csv  \n",
            "  inflating: 12a. Journey Data Extract 09Nov14-06Dec14.csv  \n",
            "  inflating: 12b. Journey Data Extract 09Nov14-06Dec14.csv  \n",
            "  inflating: 13a. Journey Data Extract 07Dec14-21Dec14.csv  \n",
            "  inflating: 13b. Journey Data Extract 22Dec14-03Jan15.csv  \n",
            "  inflating: 14. Journey Data Extract 08Dec13-04Jan14.csv  \n",
            "  inflating: 2. Journey Data Extract 03Feb14-01Mar14.csv  \n",
            "  inflating: 3. Journey Data Extract 02Mar14-31Mar14.csv  \n",
            "  inflating: 4. Journey Data Extract 01Apr14-26Apr14.csv  \n",
            "  inflating: 5. Journey Data Extract 27Apr14-24May14.csv  \n",
            "  inflating: 6. Journey Data Extract 25May14-21Jun14.csv  \n",
            "  inflating: 7. Journey Data Extract 22Jun14-19Jul14.csv  \n",
            "  inflating: 8a Journey Data Extract 20Jul14-31Jul14.csv  \n",
            "  inflating: 8b Journey Data Extract 01Aug14-16Aug14.csv  \n",
            "  inflating: 9a Journey Data Extract 17Aug14-31Aug14.csv  \n",
            "  inflating: 9b Journey Data Extract 01Sep14-13Sep14.csv  \n"
          ]
        }
      ]
    },
    {
      "cell_type": "code",
      "source": [
        "import os\n",
        "os.environ[\"JAVA_HOME\"] = \"/usr/lib/jvm/java-8-openjdk-amd64\"\n",
        "os.environ[\"SPARK_HOME\"] = \"/content/spark-3.3.2-bin-hadoop3\"\n",
        "import findspark\n",
        "findspark.init()\n",
        "from pyspark import SparkConf, SparkContext\n",
        "# Spark is started. 2 cores used:\n",
        "spark_conf = SparkConf().setMaster('local[2]').setAppName('MyApp')\n",
        "sc = SparkContext(conf=spark_conf)\n",
        "# Importing pyspark SQL for queries: \n",
        "from pyspark.sql import *\n",
        "from pyspark.sql.functions import *\n",
        "\n",
        "# Spark Session is started: \n",
        "# \"SparkSession\" and \"sc\" are key handles in to Spark API\n",
        "##SparkSession.builder.getOrCreate()\n",
        "spark = SparkSession.builder.appName(\"ride\").getOrCreate()"
      ],
      "metadata": {
        "id": "NfVCC_gNZ7nM"
      },
      "execution_count": null,
      "outputs": []
    },
    {
      "cell_type": "markdown",
      "source": [
        "## First Research Hypothesis: “In 2014, people ride for longer in Autumn than in Spring”"
      ],
      "metadata": {
        "id": "Cue3o-iCav9i"
      }
    },
    {
      "cell_type": "markdown",
      "source": [
        "## 2 LOADING DATASET"
      ],
      "metadata": {
        "id": "NISdsG-ea_jj"
      }
    },
    {
      "cell_type": "markdown",
      "source": [
        "The hypothesis demands the ride duration between the autumn and spring season. For defining the autumn season dates and spring season dates the information from the 'metoffice.gov.uk' is used. "
      ],
      "metadata": {
        "id": "wkgr5TT1jsFG"
      }
    },
    {
      "cell_type": "markdown",
      "source": [
        "### 2.1 AUTUMN DATA PREPERATION"
      ],
      "metadata": {
        "id": "un3ZpXKd3Cui"
      }
    },
    {
      "cell_type": "markdown",
      "source": [
        "The autumn dates are as below:\n",
        "<br>23 September'14 - 21 December'14\n",
        "<br>The csv files from the dataset which needs to be used:\n",
        "<br>10a. 14Sep14-27Sep14.csv\n",
        "<br>10b. 28Sep14-11Oct14.csv\n",
        "<br>11a. 12Oct14-08Nov14.csv\n",
        "<br>11b. 12Oct14-08Nov14.csv\n",
        "<br>12a. 09Nov14-06Dec14.csv\n",
        "<br>12b. 09Nov14-06Dec14.csv\n",
        "<br>13a. 07Dec14-21Dec14.csv"
      ],
      "metadata": {
        "id": "ZoRI_l653Cik"
      }
    },
    {
      "cell_type": "code",
      "source": [
        "autumn = (spark.read.format(\"csv\")\n",
        "         .option(\"header\", \"true\")\n",
        "         .option(\"inferSchema\", \"true\")\n",
        "         .load(['./10a.*csv', './10b.*csv', './11a.*csv', './11b.*csv', './12a.*csv', './12b.*csv', './13a.*csv' ]))"
      ],
      "metadata": {
        "id": "JCXu6ZSmjrti"
      },
      "execution_count": null,
      "outputs": []
    },
    {
      "cell_type": "code",
      "source": [
        "autumn.count()"
      ],
      "metadata": {
        "colab": {
          "base_uri": "https://localhost:8080/"
        },
        "id": "OiW8L9eBacbb",
        "outputId": "f52b1937-c0ff-45fe-8d83-77e356d23370"
      },
      "execution_count": null,
      "outputs": [
        {
          "output_type": "execute_result",
          "data": {
            "text/plain": [
              "3114128"
            ]
          },
          "metadata": {},
          "execution_count": 9
        }
      ]
    },
    {
      "cell_type": "markdown",
      "source": [
        "The autumn dataframe created from the csv file consist of 3114128 records."
      ],
      "metadata": {
        "id": "4ejSPR9jq0Oc"
      }
    },
    {
      "cell_type": "code",
      "source": [
        "autumn.describe()"
      ],
      "metadata": {
        "colab": {
          "base_uri": "https://localhost:8080/"
        },
        "id": "qDjEZaq61oVe",
        "outputId": "57fffbe8-fec6-4aac-a0bf-6cca51f12906"
      },
      "execution_count": null,
      "outputs": [
        {
          "output_type": "execute_result",
          "data": {
            "text/plain": [
              "DataFrame[summary: string, Rental Id: string, Duration: string, Bike Id: string, End Date: string, EndStation Id: string, EndStation Name: string, Start Date: string, StartStation Id: string, StartStation Name: string, _c9: string, _c10: string, _c11: string]"
            ]
          },
          "metadata": {},
          "execution_count": 10
        }
      ]
    },
    {
      "cell_type": "code",
      "source": [
        "autumn.printSchema()"
      ],
      "metadata": {
        "colab": {
          "base_uri": "https://localhost:8080/"
        },
        "id": "AypbpUkO1oPP",
        "outputId": "bbd926af-4e8f-4462-b266-c35b4900ceda"
      },
      "execution_count": null,
      "outputs": [
        {
          "output_type": "stream",
          "name": "stdout",
          "text": [
            "root\n",
            " |-- Rental Id: string (nullable = true)\n",
            " |-- Duration: string (nullable = true)\n",
            " |-- Bike Id: string (nullable = true)\n",
            " |-- End Date: string (nullable = true)\n",
            " |-- EndStation Id: string (nullable = true)\n",
            " |-- EndStation Name: string (nullable = true)\n",
            " |-- Start Date: string (nullable = true)\n",
            " |-- StartStation Id: string (nullable = true)\n",
            " |-- StartStation Name: string (nullable = true)\n",
            " |-- _c9: string (nullable = true)\n",
            " |-- _c10: string (nullable = true)\n",
            " |-- _c11: string (nullable = true)\n",
            "\n"
          ]
        }
      ]
    },
    {
      "cell_type": "code",
      "source": [
        "autumn.show(10)"
      ],
      "metadata": {
        "colab": {
          "base_uri": "https://localhost:8080/"
        },
        "id": "y5To8RYx1oJA",
        "outputId": "014dfb6b-9d23-4fb8-9290-9d613b9db763"
      },
      "execution_count": null,
      "outputs": [
        {
          "output_type": "stream",
          "name": "stdout",
          "text": [
            "+---------+--------+-------+----------------+-------------+--------------------+----------------+---------------+--------------------+----+----+----+\n",
            "|Rental Id|Duration|Bike Id|        End Date|EndStation Id|     EndStation Name|      Start Date|StartStation Id|   StartStation Name| _c9|_c10|_c11|\n",
            "+---------+--------+-------+----------------+-------------+--------------------+----------------+---------------+--------------------+----+----+----+\n",
            "| 37875851|     120|   3229|28/09/2014 00:02|          450|Jubilee Street, S...|28/09/2014 00:00|            443|Philpot Street, W...|null|null|null|\n",
            "| 37875861|    1080|   3283|28/09/2014 00:18|          645|Great Suffolk Str...|28/09/2014 00:00|             14|Belgrove Street ,...|null|null|null|\n",
            "| 37875857|    2820|  11369|28/09/2014 00:47|          727|Chesilton Road, F...|28/09/2014 00:00|            321|Bermondsey Street...|null|null|null|\n",
            "| 37875849|    1620|  11362|28/09/2014 00:27|          719|Victoria Park Roa...|28/09/2014 00:00|            773|Tallis Street, Te...|null|null|null|\n",
            "| 37875847|     480|   7711|28/09/2014 00:08|          553|Regent's Row , Ha...|28/09/2014 00:00|            717|Dunston Road , Ha...|null|null|null|\n",
            "| 37875855|    1080|  11303|28/09/2014 00:18|          499|    Furze Green, Bow|28/09/2014 00:00|            282|Royal London Hosp...|null|null|null|\n",
            "| 37875850|    1380|  10895|28/09/2014 00:23|          505|  Ackroyd Drive, Bow|28/09/2014 00:00|            553|Regent's Row , Ha...|null|null|null|\n",
            "| 37875854|    3060|    530|28/09/2014 00:51|          272|Baylis Road, Wate...|28/09/2014 00:00|            284|Lambeth North Sta...|null|null|null|\n",
            "| 37875852|    3060|   9026|28/09/2014 00:51|          272|Baylis Road, Wate...|28/09/2014 00:00|            284|Lambeth North Sta...|null|null|null|\n",
            "| 37875859|    9600|    364|28/09/2014 02:40|          341|Craven Street, St...|28/09/2014 00:00|            273|Belvedere Road, S...|null|null|null|\n",
            "+---------+--------+-------+----------------+-------------+--------------------+----------------+---------------+--------------------+----+----+----+\n",
            "only showing top 10 rows\n",
            "\n"
          ]
        }
      ]
    },
    {
      "cell_type": "markdown",
      "source": [
        "The start Date column is in string datatype which needs to be converted to timestamp for facilitating filter over the start Date column."
      ],
      "metadata": {
        "id": "bIImf_6413x8"
      }
    },
    {
      "cell_type": "code",
      "source": [
        "autumn1 = autumn.withColumn(\"start Date\", to_timestamp(\"start Date\", \"dd/MM/yyyy HH:mm\"))"
      ],
      "metadata": {
        "id": "lbgpkzYb1oCk"
      },
      "execution_count": null,
      "outputs": []
    },
    {
      "cell_type": "code",
      "source": [
        "#Checking if the datatype has changed\n",
        "autumn1.printSchema()"
      ],
      "metadata": {
        "colab": {
          "base_uri": "https://localhost:8080/"
        },
        "id": "IUjdMUaq1n77",
        "outputId": "ebb4b235-67c7-4aac-ba1a-dfb603a91d26"
      },
      "execution_count": null,
      "outputs": [
        {
          "output_type": "stream",
          "name": "stdout",
          "text": [
            "root\n",
            " |-- Rental Id: string (nullable = true)\n",
            " |-- Duration: string (nullable = true)\n",
            " |-- Bike Id: string (nullable = true)\n",
            " |-- End Date: string (nullable = true)\n",
            " |-- EndStation Id: string (nullable = true)\n",
            " |-- EndStation Name: string (nullable = true)\n",
            " |-- start Date: timestamp (nullable = true)\n",
            " |-- StartStation Id: string (nullable = true)\n",
            " |-- StartStation Name: string (nullable = true)\n",
            " |-- _c9: string (nullable = true)\n",
            " |-- _c10: string (nullable = true)\n",
            " |-- _c11: string (nullable = true)\n",
            "\n"
          ]
        }
      ]
    },
    {
      "cell_type": "code",
      "source": [
        "autumn1.show(1)"
      ],
      "metadata": {
        "colab": {
          "base_uri": "https://localhost:8080/"
        },
        "id": "B_dwylOX5ZCK",
        "outputId": "67016601-66f7-4c82-db35-f12d0c5a7f9d"
      },
      "execution_count": null,
      "outputs": [
        {
          "output_type": "stream",
          "name": "stdout",
          "text": [
            "+---------+--------+-------+----------------+-------------+--------------------+-------------------+---------------+--------------------+----+----+----+\n",
            "|Rental Id|Duration|Bike Id|        End Date|EndStation Id|     EndStation Name|         start Date|StartStation Id|   StartStation Name| _c9|_c10|_c11|\n",
            "+---------+--------+-------+----------------+-------------+--------------------+-------------------+---------------+--------------------+----+----+----+\n",
            "| 37875851|     120|   3229|28/09/2014 00:02|          450|Jubilee Street, S...|2014-09-28 00:00:00|            443|Philpot Street, W...|null|null|null|\n",
            "+---------+--------+-------+----------------+-------------+--------------------+-------------------+---------------+--------------------+----+----+----+\n",
            "only showing top 1 row\n",
            "\n"
          ]
        }
      ]
    },
    {
      "cell_type": "markdown",
      "source": [
        "The csv files consists of data from 14 September'14 to 21 December'14. But the required autumn data extends from 23 September'14 to 21 december'14. Hence the data from 23 September'14 to 21 december'14 needs to be filtered to create the final dataset with only required dates."
      ],
      "metadata": {
        "id": "8hD5TNCm3pOM"
      }
    },
    {
      "cell_type": "code",
      "source": [
        "autumn2 = autumn1.filter(autumn1['Start Date'] >= \"2014-09-23 00:00:00\")"
      ],
      "metadata": {
        "id": "vRqrKbAu4SVf"
      },
      "execution_count": null,
      "outputs": []
    },
    {
      "cell_type": "code",
      "source": [
        "autumn2.agg({\"start Date\": \"min\"}).show()\n",
        "autumn2.agg({\"start Date\": \"max\"}).show()"
      ],
      "metadata": {
        "colab": {
          "base_uri": "https://localhost:8080/"
        },
        "id": "7sZPLk_76rDM",
        "outputId": "49e9f0fa-21f3-462d-b86a-028ea93fefd5"
      },
      "execution_count": null,
      "outputs": [
        {
          "output_type": "stream",
          "name": "stdout",
          "text": [
            "+-------------------+\n",
            "|    min(start Date)|\n",
            "+-------------------+\n",
            "|2014-09-23 00:00:00|\n",
            "+-------------------+\n",
            "\n",
            "+-------------------+\n",
            "|    max(start Date)|\n",
            "+-------------------+\n",
            "|2014-12-21 23:59:00|\n",
            "+-------------------+\n",
            "\n"
          ]
        }
      ]
    },
    {
      "cell_type": "markdown",
      "source": [
        "Lets create a final dataset with only required columns for proving the hypothesis. Here only Bike Id, Duration and start Date are the required columns."
      ],
      "metadata": {
        "id": "W6bFIUvy9D4r"
      }
    },
    {
      "cell_type": "code",
      "source": [
        "autumn_final = autumn2.select( \"Bike Id\", \"Duration\", \"start Date\")"
      ],
      "metadata": {
        "id": "97-b_B3Y9C6Q"
      },
      "execution_count": null,
      "outputs": []
    },
    {
      "cell_type": "code",
      "source": [
        "autumn_final.show(5)"
      ],
      "metadata": {
        "colab": {
          "base_uri": "https://localhost:8080/"
        },
        "id": "6O2CtCjw9ubH",
        "outputId": "92814c4b-079d-4de4-e075-e2e0709a3abf"
      },
      "execution_count": null,
      "outputs": [
        {
          "output_type": "stream",
          "name": "stdout",
          "text": [
            "+-------+--------+-------------------+\n",
            "|Bike Id|Duration|         start Date|\n",
            "+-------+--------+-------------------+\n",
            "|   3229|     120|2014-09-28 00:00:00|\n",
            "|   3283|    1080|2014-09-28 00:00:00|\n",
            "|  11369|    2820|2014-09-28 00:00:00|\n",
            "|  11362|    1620|2014-09-28 00:00:00|\n",
            "|   7711|     480|2014-09-28 00:00:00|\n",
            "+-------+--------+-------------------+\n",
            "only showing top 5 rows\n",
            "\n"
          ]
        }
      ]
    },
    {
      "cell_type": "markdown",
      "source": [
        "### SPRING DATA PREPERATION"
      ],
      "metadata": {
        "id": "6ktKub5t3NIx"
      }
    },
    {
      "cell_type": "markdown",
      "source": [
        "The spring dates obtained from the metoffice.gov.uk are 20 March'14 - 21 June'14. Hence the files which needs to be imported are:\n",
        "<br>3. 02 Mar - 31 Mar\n",
        "<br>4. 01 April - 26 April\n",
        "<br>5. 27 April - 24 May\n",
        "<br>6. 25 May - 21 June"
      ],
      "metadata": {
        "id": "P3pvSkvzxIvH"
      }
    },
    {
      "cell_type": "code",
      "source": [
        "spring = (spark.read.format(\"csv\")\n",
        "         .option(\"header\", \"true\")\n",
        "         .option(\"inferSchema\", \"true\")\n",
        "         .load(['./3.*csv', './4.*csv', './5.*csv', './6.*csv' ]))"
      ],
      "metadata": {
        "id": "S_UHr9MNxCHH"
      },
      "execution_count": null,
      "outputs": []
    },
    {
      "cell_type": "code",
      "source": [
        "spring.count()"
      ],
      "metadata": {
        "colab": {
          "base_uri": "https://localhost:8080/"
        },
        "id": "hoNOcRPYxCEE",
        "outputId": "6bec0ffe-bec2-47f3-b53f-922f6a102cf0"
      },
      "execution_count": null,
      "outputs": [
        {
          "output_type": "execute_result",
          "data": {
            "text/plain": [
              "3146046"
            ]
          },
          "metadata": {},
          "execution_count": 21
        }
      ]
    },
    {
      "cell_type": "markdown",
      "source": [
        "The spring dataframe created from the csv files consists of 3146046 records."
      ],
      "metadata": {
        "id": "sOtXJkq-yofY"
      }
    },
    {
      "cell_type": "code",
      "source": [
        "spring.printSchema()"
      ],
      "metadata": {
        "colab": {
          "base_uri": "https://localhost:8080/"
        },
        "id": "e83Isuhrt9mK",
        "outputId": "54017f7e-409e-4a56-e7eb-f66842ae7d3f"
      },
      "execution_count": null,
      "outputs": [
        {
          "output_type": "stream",
          "name": "stdout",
          "text": [
            "root\n",
            " |-- Rental Id: string (nullable = true)\n",
            " |-- Duration: string (nullable = true)\n",
            " |-- Bike Id: string (nullable = true)\n",
            " |-- End Date: string (nullable = true)\n",
            " |-- EndStation Id: string (nullable = true)\n",
            " |-- EndStation Name: string (nullable = true)\n",
            " |-- Start Date: string (nullable = true)\n",
            " |-- StartStation Id: string (nullable = true)\n",
            " |-- StartStation Name: string (nullable = true)\n",
            " |-- _c9: string (nullable = true)\n",
            " |-- _c10: string (nullable = true)\n",
            " |-- _c11: string (nullable = true)\n",
            "\n"
          ]
        }
      ]
    },
    {
      "cell_type": "code",
      "source": [
        "spring.show(1)"
      ],
      "metadata": {
        "colab": {
          "base_uri": "https://localhost:8080/"
        },
        "id": "wprQC-VP1C7O",
        "outputId": "e910d358-742f-4003-f834-ddd5f8c886c4"
      },
      "execution_count": null,
      "outputs": [
        {
          "output_type": "stream",
          "name": "stdout",
          "text": [
            "+---------+--------+-------+----------------+-------------+--------------------+----------------+---------------+--------------------+----+----+----+\n",
            "|Rental Id|Duration|Bike Id|        End Date|EndStation Id|     EndStation Name|      Start Date|StartStation Id|   StartStation Name| _c9|_c10|_c11|\n",
            "+---------+--------+-------+----------------+-------------+--------------------+----------------+---------------+--------------------+----+----+----+\n",
            "| 33253206|    1140|  11439|27/05/2014 00:59|          695|Islington Green, ...|27/05/2014 00:40|             81|Great Titchfield ...|null|null|null|\n",
            "+---------+--------+-------+----------------+-------------+--------------------+----------------+---------------+--------------------+----+----+----+\n",
            "only showing top 1 row\n",
            "\n"
          ]
        }
      ]
    },
    {
      "cell_type": "markdown",
      "source": [
        "The the start Date column is in string datatype which needs to be converted to timestamp for facilitating filter over the start Date column."
      ],
      "metadata": {
        "id": "lXis0IkPz75u"
      }
    },
    {
      "cell_type": "code",
      "source": [
        "spring1 = spring.withColumn(\"start Date\", to_timestamp(\"start Date\", \"dd/MM/yyyy HH:mm\"))"
      ],
      "metadata": {
        "id": "VoS54cRIzZWY"
      },
      "execution_count": null,
      "outputs": []
    },
    {
      "cell_type": "code",
      "source": [
        "spring1.printSchema()"
      ],
      "metadata": {
        "colab": {
          "base_uri": "https://localhost:8080/"
        },
        "id": "XTs6jzCb1Uwe",
        "outputId": "e06f9eed-40d4-4408-b610-c14c11fcde6a"
      },
      "execution_count": null,
      "outputs": [
        {
          "output_type": "stream",
          "name": "stdout",
          "text": [
            "root\n",
            " |-- Rental Id: string (nullable = true)\n",
            " |-- Duration: string (nullable = true)\n",
            " |-- Bike Id: string (nullable = true)\n",
            " |-- End Date: string (nullable = true)\n",
            " |-- EndStation Id: string (nullable = true)\n",
            " |-- EndStation Name: string (nullable = true)\n",
            " |-- start Date: timestamp (nullable = true)\n",
            " |-- StartStation Id: string (nullable = true)\n",
            " |-- StartStation Name: string (nullable = true)\n",
            " |-- _c9: string (nullable = true)\n",
            " |-- _c10: string (nullable = true)\n",
            " |-- _c11: string (nullable = true)\n",
            "\n"
          ]
        }
      ]
    },
    {
      "cell_type": "markdown",
      "source": [
        "The csv files consists of data from 2 March'14 to 21 June'14. But the required autumn data extends from 20 March'14 to 21 June'14. Hence the data from 20 March'14 to 21 June'14 needs to be filtered to create the final dataset with only required dates."
      ],
      "metadata": {
        "id": "1kGCuVhg771o"
      }
    },
    {
      "cell_type": "code",
      "source": [
        "spring2 = spring1.filter(spring1['Start Date'] >= \"2014-03-21 00:00:00\")"
      ],
      "metadata": {
        "id": "F-I3YLbl25yc"
      },
      "execution_count": null,
      "outputs": []
    },
    {
      "cell_type": "code",
      "source": [
        "spring2.agg({\"start Date\": \"min\"}).show()\n",
        "spring2.agg({\"start Date\": \"max\"}).show()"
      ],
      "metadata": {
        "colab": {
          "base_uri": "https://localhost:8080/"
        },
        "id": "Gd0X-LLj8cT1",
        "outputId": "66ba083c-bcd6-4ff9-8c83-3d82920e4e93"
      },
      "execution_count": null,
      "outputs": [
        {
          "output_type": "stream",
          "name": "stdout",
          "text": [
            "+-------------------+\n",
            "|    min(start Date)|\n",
            "+-------------------+\n",
            "|2014-03-21 00:00:00|\n",
            "+-------------------+\n",
            "\n",
            "+-------------------+\n",
            "|    max(start Date)|\n",
            "+-------------------+\n",
            "|2014-06-21 23:59:00|\n",
            "+-------------------+\n",
            "\n"
          ]
        }
      ]
    },
    {
      "cell_type": "markdown",
      "source": [
        "Lets create a final dataset with only required columns for proving the hypothesis. Here only Bike Id, Duration and start Date are the required columns."
      ],
      "metadata": {
        "id": "pXdtLML691w_"
      }
    },
    {
      "cell_type": "code",
      "source": [
        "spring_final = spring2.select( \"Bike Id\", \"Duration\", \"start Date\")"
      ],
      "metadata": {
        "id": "2ECIKfxz8l9W"
      },
      "execution_count": null,
      "outputs": []
    },
    {
      "cell_type": "code",
      "source": [
        "spring_final.show(5)"
      ],
      "metadata": {
        "colab": {
          "base_uri": "https://localhost:8080/"
        },
        "id": "75Z-CQIH9-24",
        "outputId": "6f903f74-5d82-4649-8347-e8068237d22e"
      },
      "execution_count": null,
      "outputs": [
        {
          "output_type": "stream",
          "name": "stdout",
          "text": [
            "+-------+--------+-------------------+\n",
            "|Bike Id|Duration|         start Date|\n",
            "+-------+--------+-------------------+\n",
            "|  11439|    1140|2014-05-27 00:40:00|\n",
            "|  10792|     660|2014-05-30 17:49:00|\n",
            "|  11901|    1440|2014-06-03 13:05:00|\n",
            "|   6891|     960|2014-06-09 18:15:00|\n",
            "|   6600|    1260|2014-06-11 19:37:00|\n",
            "+-------+--------+-------------------+\n",
            "only showing top 5 rows\n",
            "\n"
          ]
        }
      ]
    },
    {
      "cell_type": "markdown",
      "source": [
        "## 3 DATA PREPERATION"
      ],
      "metadata": {
        "id": "ar0hWD2y-bbe"
      }
    },
    {
      "cell_type": "code",
      "source": [
        "#Check for duplicates autumn\n",
        "autumn3 = autumn_final.drop_duplicates()\n",
        "print(autumn3.count(), autumn_final.count())"
      ],
      "metadata": {
        "colab": {
          "base_uri": "https://localhost:8080/"
        },
        "id": "EzNsSD4g-C24",
        "outputId": "832fa759-24d7-4577-e019-154d41c6116b"
      },
      "execution_count": null,
      "outputs": [
        {
          "output_type": "stream",
          "name": "stdout",
          "text": [
            "2309864 2309906\n"
          ]
        }
      ]
    },
    {
      "cell_type": "code",
      "source": [
        "#Check for duplicates spring\n",
        "spring3 = spring_final.drop_duplicates()\n",
        "print(spring3.count(), spring_final.count())"
      ],
      "metadata": {
        "colab": {
          "base_uri": "https://localhost:8080/"
        },
        "id": "1dHeW2BE-lv3",
        "outputId": "2d1de660-409c-4b25-ce70-aa5cfb397749"
      },
      "execution_count": null,
      "outputs": [
        {
          "output_type": "stream",
          "name": "stdout",
          "text": [
            "2667814 2667872\n"
          ]
        }
      ]
    },
    {
      "cell_type": "markdown",
      "source": [
        "Since the deplicated count is different from the original dataframe count it says that the data was duplicated. Hence the deduplicated dataframe autumn3 and spring3 can be used for further exploration."
      ],
      "metadata": {
        "id": "9vCcO6bsAIlH"
      }
    },
    {
      "cell_type": "code",
      "source": [
        "#Check for missing values autumn columns\n",
        "null_autumn_Bike_Id = autumn3.where(col(\"Bike Id\").isNull()).count()\n",
        "null_autumn_start_Date= autumn3.where(col(\"start Date\").isNull()).count()\n",
        "null_autumn_Duration = autumn3.where(col(\"Duration\").isNull()).count()\n",
        "print(null_autumn_Bike_Id, null_autumn_start_Date, null_autumn_Duration)"
      ],
      "metadata": {
        "colab": {
          "base_uri": "https://localhost:8080/"
        },
        "id": "YaXtkOXJBY7a",
        "outputId": "93aa4a8d-95cb-43e4-fe9c-29bf8272bc50"
      },
      "execution_count": null,
      "outputs": [
        {
          "output_type": "stream",
          "name": "stdout",
          "text": [
            "0 0 0\n"
          ]
        }
      ]
    },
    {
      "cell_type": "code",
      "source": [
        "#Check for missing values autumn columns\n",
        "null_spring_Bike_Id = spring3.where(col(\"Bike Id\").isNull()).count()\n",
        "null_spring_start_Date= spring3.where(col(\"start Date\").isNull()).count()\n",
        "null_spring_Duration = spring3.where(col(\"Duration\").isNull()).count()\n",
        "print(null_spring_Bike_Id, null_spring_start_Date, null_spring_Duration)"
      ],
      "metadata": {
        "colab": {
          "base_uri": "https://localhost:8080/"
        },
        "id": "xk1ghmVpCZgg",
        "outputId": "09efcefb-27a5-492d-a7c5-445bffb196dc"
      },
      "execution_count": null,
      "outputs": [
        {
          "output_type": "stream",
          "name": "stdout",
          "text": [
            "0 0 0\n"
          ]
        }
      ]
    },
    {
      "cell_type": "markdown",
      "source": [
        "There are no null values present in the dataframe"
      ],
      "metadata": {
        "id": "aQt0e3ScFaWn"
      }
    },
    {
      "cell_type": "code",
      "source": [
        "#The datatype of the Bike Id and the duration is string. This needs to be converted to integer\n",
        "from pyspark.sql.types import IntegerType\n",
        "autumn3 = autumn3.withColumn(\"Duration\", col(\"Duration\").cast(IntegerType()))\n",
        "autumn3 = autumn3.withColumn(\"Bike Id\", col(\"Bike Id\").cast(IntegerType()))\n",
        "spring3 = spring3.withColumn(\"Duration\", col(\"Duration\").cast(IntegerType()))\n",
        "spring3 = spring3.withColumn(\"Bike Id\", col(\"Bike Id\").cast(IntegerType()))"
      ],
      "metadata": {
        "id": "v9FcaSNpHYkP"
      },
      "execution_count": null,
      "outputs": []
    },
    {
      "cell_type": "code",
      "source": [
        "autumn3.printSchema()"
      ],
      "metadata": {
        "colab": {
          "base_uri": "https://localhost:8080/"
        },
        "id": "27g8LqkNHhEP",
        "outputId": "ecf71255-c793-44a8-9522-ed47c2f518a1"
      },
      "execution_count": null,
      "outputs": [
        {
          "output_type": "stream",
          "name": "stdout",
          "text": [
            "root\n",
            " |-- Bike Id: integer (nullable = true)\n",
            " |-- Duration: integer (nullable = true)\n",
            " |-- start Date: timestamp (nullable = true)\n",
            "\n"
          ]
        }
      ]
    },
    {
      "cell_type": "code",
      "source": [
        "spring3.printSchema()"
      ],
      "metadata": {
        "colab": {
          "base_uri": "https://localhost:8080/"
        },
        "id": "s0wffArcI7dN",
        "outputId": "a3822675-0e4f-41f2-86c3-8598be690b2c"
      },
      "execution_count": null,
      "outputs": [
        {
          "output_type": "stream",
          "name": "stdout",
          "text": [
            "root\n",
            " |-- Bike Id: integer (nullable = true)\n",
            " |-- Duration: integer (nullable = true)\n",
            " |-- start Date: timestamp (nullable = true)\n",
            "\n"
          ]
        }
      ]
    },
    {
      "cell_type": "code",
      "source": [
        "print(autumn3.count(), spring3.count())"
      ],
      "metadata": {
        "colab": {
          "base_uri": "https://localhost:8080/"
        },
        "id": "vc_Kv_NCPs4Q",
        "outputId": "349999de-a792-4df6-eedd-fd81a6de9713"
      },
      "execution_count": null,
      "outputs": [
        {
          "output_type": "stream",
          "name": "stdout",
          "text": [
            "2309864 2667814\n"
          ]
        }
      ]
    },
    {
      "cell_type": "code",
      "source": [
        "#Checking for noise in duration column\n",
        "autumn_noise = autumn3.filter(col('Duration') <= 0)\n",
        "autumn_noise.count()"
      ],
      "metadata": {
        "colab": {
          "base_uri": "https://localhost:8080/"
        },
        "id": "BDEEDdBlOeMT",
        "outputId": "c10d9419-d3d3-4526-a38b-d02cd132e9f7"
      },
      "execution_count": null,
      "outputs": [
        {
          "output_type": "execute_result",
          "data": {
            "text/plain": [
              "7510"
            ]
          },
          "metadata": {},
          "execution_count": 38
        }
      ]
    },
    {
      "cell_type": "code",
      "source": [
        "spring_noise = spring3.filter(col('Duration') <= 0)\n",
        "spring_noise.count()"
      ],
      "metadata": {
        "colab": {
          "base_uri": "https://localhost:8080/"
        },
        "id": "wz6SxxN9PZt5",
        "outputId": "84ebd96a-3f74-40dd-ac5e-b16006a9228d"
      },
      "execution_count": null,
      "outputs": [
        {
          "output_type": "execute_result",
          "data": {
            "text/plain": [
              "8213"
            ]
          },
          "metadata": {},
          "execution_count": 39
        }
      ]
    },
    {
      "cell_type": "code",
      "source": [
        "# Removing noise from the data\n",
        "autumn4 = autumn3.filter(col('Duration') > 0)\n",
        "spring4 = spring3.filter(col('Duration') > 0)"
      ],
      "metadata": {
        "id": "wWd9essdRLVG"
      },
      "execution_count": null,
      "outputs": []
    },
    {
      "cell_type": "markdown",
      "source": [
        "## 4 DATA EXPLORATION"
      ],
      "metadata": {
        "id": "xOVmrsquGEVt"
      }
    },
    {
      "cell_type": "code",
      "source": [
        "#For plotting and analysing the data the spark dataframe needs to be converted to pandas dataframes."
      ],
      "metadata": {
        "id": "jcBXhlUOGDLj"
      },
      "execution_count": null,
      "outputs": []
    },
    {
      "cell_type": "code",
      "source": [
        "#Taking random sample of the data to plot hist\n",
        "pd_sample_autumn=autumn4.sample(0.001).toPandas()\n",
        "pd_sample_spring=spring4.sample(0.001).toPandas()\n",
        "print(pd_sample_autumn.count(), pd_sample_spring.count())"
      ],
      "metadata": {
        "colab": {
          "base_uri": "https://localhost:8080/"
        },
        "id": "mvvex95NhR9v",
        "outputId": "2e653807-e512-4e14-e507-a09b86ba194a"
      },
      "execution_count": null,
      "outputs": [
        {
          "output_type": "stream",
          "name": "stderr",
          "text": [
            "/content/spark-3.3.2-bin-hadoop3/python/pyspark/sql/pandas/conversion.py:248: FutureWarning: Passing unit-less datetime64 dtype to .astype is deprecated and will raise in a future version. Pass 'datetime64[ns]' instead\n",
            "  series = series.astype(t, copy=False)\n"
          ]
        },
        {
          "output_type": "stream",
          "name": "stdout",
          "text": [
            "Bike Id       2236\n",
            "Duration      2236\n",
            "start Date    2236\n",
            "dtype: int64 Bike Id       2594\n",
            "Duration      2594\n",
            "start Date    2594\n",
            "dtype: int64\n"
          ]
        },
        {
          "output_type": "stream",
          "name": "stderr",
          "text": [
            "/content/spark-3.3.2-bin-hadoop3/python/pyspark/sql/pandas/conversion.py:248: FutureWarning: Passing unit-less datetime64 dtype to .astype is deprecated and will raise in a future version. Pass 'datetime64[ns]' instead\n",
            "  series = series.astype(t, copy=False)\n"
          ]
        }
      ]
    },
    {
      "cell_type": "code",
      "source": [
        "sample_autumn = spark.createDataFrame(pd_sample_autumn)\n",
        "sample_spring = spark.createDataFrame(pd_sample_spring)"
      ],
      "metadata": {
        "colab": {
          "base_uri": "https://localhost:8080/"
        },
        "id": "7IJYjZoMmZeS",
        "outputId": "eccc0b26-f8c0-4d67-a3e3-699260333901"
      },
      "execution_count": null,
      "outputs": [
        {
          "output_type": "stream",
          "name": "stderr",
          "text": [
            "/content/spark-3.3.2-bin-hadoop3/python/pyspark/sql/pandas/conversion.py:474: FutureWarning: iteritems is deprecated and will be removed in a future version. Use .items instead.\n",
            "  for column, series in pdf.iteritems():\n",
            "/content/spark-3.3.2-bin-hadoop3/python/pyspark/sql/pandas/conversion.py:486: FutureWarning: iteritems is deprecated and will be removed in a future version. Use .items instead.\n",
            "  for column, series in pdf.iteritems():\n"
          ]
        }
      ]
    },
    {
      "cell_type": "code",
      "source": [
        "pd_sample_autumn.plot(kind=\"scatter\", y=\"Duration\", x=\"Bike Id\") \n",
        "plt.title(\"Autumn\")\n",
        "plt.ylim(0,10000)\n",
        "plt.show()"
      ],
      "metadata": {
        "colab": {
          "base_uri": "https://localhost:8080/",
          "height": 472
        },
        "id": "1zdsxc0ChoIy",
        "outputId": "06feab26-0139-4b0c-bebc-e888c63e8c2f"
      },
      "execution_count": null,
      "outputs": [
        {
          "output_type": "display_data",
          "data": {
            "text/plain": [
              "<Figure size 640x480 with 1 Axes>"
            ],
            "image/png": "[encoded data removed]"
          },
          "metadata": {}
        }
      ]
    },
    {
      "cell_type": "code",
      "source": [
        "numexceed_autumn = pd_sample_autumn.query('Duration > 2000')\n",
        "print(numexceed_autumn.count(),((numexceed_autumn.count())/2363)*100)"
      ],
      "metadata": {
        "colab": {
          "base_uri": "https://localhost:8080/"
        },
        "id": "XJm_tjzFjXnc",
        "outputId": "f4c1813d-4d8a-49b9-91be-d65f061e5679"
      },
      "execution_count": null,
      "outputs": [
        {
          "output_type": "stream",
          "name": "stdout",
          "text": [
            "Bike Id       147\n",
            "Duration      147\n",
            "start Date    147\n",
            "dtype: int64 Bike Id       6.220906\n",
            "Duration      6.220906\n",
            "start Date    6.220906\n",
            "dtype: float64\n"
          ]
        }
      ]
    },
    {
      "cell_type": "code",
      "source": [
        "numexceed_autumn1 = pd_sample_autumn.query('Duration < 300')\n",
        "print(numexceed_autumn1.count(),((numexceed_autumn1.count())/2363)*100)"
      ],
      "metadata": {
        "colab": {
          "base_uri": "https://localhost:8080/"
        },
        "id": "n962hRKSi3ax",
        "outputId": "4a678734-6fdf-4ba6-aa12-666633d45b63"
      },
      "execution_count": null,
      "outputs": [
        {
          "output_type": "stream",
          "name": "stdout",
          "text": [
            "Bike Id       186\n",
            "Duration      186\n",
            "start Date    186\n",
            "dtype: int64 Bike Id       7.87135\n",
            "Duration      7.87135\n",
            "start Date    7.87135\n",
            "dtype: float64\n"
          ]
        }
      ]
    },
    {
      "cell_type": "markdown",
      "source": [
        "From the scatterplot of duration against BikeId it is evident that most of the duration has happened within 2000 for the autumn. This is only 147 records which is only 6.22 % of the data. The duration less than 300 is only 186 records which contributes to 7.8% of the data."
      ],
      "metadata": {
        "id": "e2UTKCTKiPED"
      }
    },
    {
      "cell_type": "code",
      "source": [
        "pd_sample_spring.plot(kind=\"scatter\", y=\"Duration\", x=\"Bike Id\") \n",
        "plt.title(\"Spring\")\n",
        "plt.ylim(0,10000)\n",
        "plt.show()"
      ],
      "metadata": {
        "colab": {
          "base_uri": "https://localhost:8080/",
          "height": 472
        },
        "id": "sVdR_NuDifMs",
        "outputId": "74085e8b-cfc5-47b4-f6f4-701c003c20b5"
      },
      "execution_count": null,
      "outputs": [
        {
          "output_type": "display_data",
          "data": {
            "text/plain": [
              "<Figure size 640x480 with 1 Axes>"
            ],
            "image/png": "[encoded data removed]"
          },
          "metadata": {}
        }
      ]
    },
    {
      "cell_type": "code",
      "source": [
        "numexceed_spring = pd_sample_spring.query('Duration > 3000')\n",
        "print(numexceed_spring.count(),((numexceed_spring.count())/2464)*100)"
      ],
      "metadata": {
        "colab": {
          "base_uri": "https://localhost:8080/"
        },
        "id": "-eIzXivUlKJz",
        "outputId": "660d1be3-f362-41fc-946e-6e865ca59644"
      },
      "execution_count": null,
      "outputs": [
        {
          "output_type": "stream",
          "name": "stdout",
          "text": [
            "Bike Id       143\n",
            "Duration      143\n",
            "start Date    143\n",
            "dtype: int64 Bike Id       5.803571\n",
            "Duration      5.803571\n",
            "start Date    5.803571\n",
            "dtype: float64\n"
          ]
        }
      ]
    },
    {
      "cell_type": "code",
      "source": [
        "numexceed_spring1 = pd_sample_spring.query('Duration < 300')\n",
        "print(numexceed_spring1.count(),((numexceed_spring1.count())/2464)*100)"
      ],
      "metadata": {
        "colab": {
          "base_uri": "https://localhost:8080/"
        },
        "id": "Njrf7kFapCem",
        "outputId": "adf18feb-7663-4b5b-b11b-139e51f8e389"
      },
      "execution_count": null,
      "outputs": [
        {
          "output_type": "stream",
          "name": "stdout",
          "text": [
            "Bike Id       194\n",
            "Duration      194\n",
            "start Date    194\n",
            "dtype: int64 Bike Id       7.873377\n",
            "Duration      7.873377\n",
            "start Date    7.873377\n",
            "dtype: float64\n"
          ]
        }
      ]
    },
    {
      "cell_type": "markdown",
      "source": [
        "For the spring season there are more rides scattered between 2000 to 3000. Hence it can be said that most of the rides has happed within duration of 3000. This is only 143 records which contributes to 5.8% of the whole data. The records which are less than 300 is only 194 which is of 7.8 % contribution."
      ],
      "metadata": {
        "id": "CtBF94wvi6i-"
      }
    },
    {
      "cell_type": "code",
      "source": [
        "#histogram with 100 bins and log of frequency for rides lasting more than 5 minutes\n",
        "sample_autumn.filter(\"Duration > 300\")[[\"Duration\"]].toPandas().plot(kind=\"hist\", bins=100, log=True)\n",
        "plt.xlim(0,60000)\n",
        "plt.show()"
      ],
      "metadata": {
        "colab": {
          "base_uri": "https://localhost:8080/",
          "height": 430
        },
        "id": "HaKVeaYmnvgv",
        "outputId": "9bc07689-31bf-496e-c88f-99bcd62ae163"
      },
      "execution_count": null,
      "outputs": [
        {
          "output_type": "display_data",
          "data": {
            "text/plain": [
              "<Figure size 640x480 with 1 Axes>"
            ],
            "image/png": "[encoded data removed]"
          },
          "metadata": {}
        }
      ]
    },
    {
      "cell_type": "code",
      "source": [
        "#histogram with 100 bins and log of frequency for rides lasting more than 5 minutes\n",
        "sample_spring.filter(\"Duration > 300\")[[\"Duration\"]].toPandas().plot(kind=\"hist\", bins=100, log=True)\n",
        "plt.xlim(0,120000)\n",
        "plt.show()"
      ],
      "metadata": {
        "colab": {
          "base_uri": "https://localhost:8080/",
          "height": 430
        },
        "id": "pAjIdIC8lr6u",
        "outputId": "3ff420a2-b652-485f-f634-e2197b538350"
      },
      "execution_count": null,
      "outputs": [
        {
          "output_type": "display_data",
          "data": {
            "text/plain": [
              "<Figure size 640x480 with 1 Axes>"
            ],
            "image/png": "[encoded data removed]"
          },
          "metadata": {}
        }
      ]
    },
    {
      "cell_type": "code",
      "source": [
        "pd_autumn = autumn4.toPandas()\n",
        "pd_spring = spring4.toPandas()"
      ],
      "metadata": {
        "colab": {
          "base_uri": "https://localhost:8080/"
        },
        "id": "-tfLtjraCvye",
        "outputId": "678f0ce0-d01c-4689-c331-cb8ceaf1c89f"
      },
      "execution_count": null,
      "outputs": [
        {
          "output_type": "stream",
          "name": "stderr",
          "text": [
            "/content/spark-3.3.2-bin-hadoop3/python/pyspark/sql/pandas/conversion.py:248: FutureWarning: Passing unit-less datetime64 dtype to .astype is deprecated and will raise in a future version. Pass 'datetime64[ns]' instead\n",
            "  series = series.astype(t, copy=False)\n",
            "/content/spark-3.3.2-bin-hadoop3/python/pyspark/sql/pandas/conversion.py:248: FutureWarning: Passing unit-less datetime64 dtype to .astype is deprecated and will raise in a future version. Pass 'datetime64[ns]' instead\n",
            "  series = series.astype(t, copy=False)\n"
          ]
        }
      ]
    },
    {
      "cell_type": "code",
      "source": [
        "#Lets check for the outliers in the Duration column for both the spring and autumn data\n",
        "import matplotlib.pyplot as plt\n",
        "import seaborn as sns\n",
        "sns.boxplot(x = pd_autumn['Duration'])\n",
        "plt.title('Autumn')\n",
        "plt.xlim(-1000,10000)\n",
        "plt.show()"
      ],
      "metadata": {
        "colab": {
          "base_uri": "https://localhost:8080/",
          "height": 472
        },
        "id": "zBM9pjELGumP",
        "outputId": "66b12069-c6e4-4bc4-fb46-cc6864f0290a"
      },
      "execution_count": null,
      "outputs": [
        {
          "output_type": "display_data",
          "data": {
            "text/plain": [
              "<Figure size 640x480 with 1 Axes>"
            ],
            "image/png": "[encoded data removed]"
          },
          "metadata": {}
        }
      ]
    },
    {
      "cell_type": "markdown",
      "source": [
        "From the boxplot of duration for autumn data the durations approximately above 2200 can be identified as outliers."
      ],
      "metadata": {
        "id": "BZx92ZNiTOvb"
      }
    },
    {
      "cell_type": "code",
      "source": [
        "import matplotlib.pyplot as plt\n",
        "import seaborn as sns\n",
        "sns.boxplot(x = pd_spring['Duration'])\n",
        "plt.title('Spring')\n",
        "plt.xlim(-1000,10000)\n",
        "plt.show()"
      ],
      "metadata": {
        "colab": {
          "base_uri": "https://localhost:8080/",
          "height": 472
        },
        "id": "EeZw3kQyZMnX",
        "outputId": "1d548ac6-a4ae-4012-fa10-cd738b398fc1"
      },
      "execution_count": null,
      "outputs": [
        {
          "output_type": "display_data",
          "data": {
            "text/plain": [
              "<Figure size 640x480 with 1 Axes>"
            ],
            "image/png": "[encoded data removed]"
          },
          "metadata": {}
        }
      ]
    },
    {
      "cell_type": "markdown",
      "source": [
        "The Duration above 2800 in the Spring can be considered as outliers."
      ],
      "metadata": {
        "id": "jDJztNziZi4V"
      }
    },
    {
      "cell_type": "code",
      "source": [
        "#Removing the outliers from the the autumn and the spring dataset\n",
        "#For comparing the results of the data the duration range should be equal. Hence lets subset the sample in the range of 300 to 2500\n",
        "#The rides below 5 minutes are also considered as outliers\n",
        "autumn5 = autumn4.filter((col('Duration') <=2500) & (col('Duration') > 300))\n",
        "spring5 = spring4.filter((col('Duration') <=2500) & (col('Duration') > 300))"
      ],
      "metadata": {
        "id": "b3nr0Q8eZL2i"
      },
      "execution_count": null,
      "outputs": []
    },
    {
      "cell_type": "code",
      "source": [
        "print(autumn5.count(), spring5.count())"
      ],
      "metadata": {
        "colab": {
          "base_uri": "https://localhost:8080/"
        },
        "id": "aZgyRGzVZK45",
        "outputId": "9d44216a-c655-48c0-a850-b440d6821daa"
      },
      "execution_count": null,
      "outputs": [
        {
          "output_type": "stream",
          "name": "stdout",
          "text": [
            "1888393 2145344\n"
          ]
        }
      ]
    },
    {
      "cell_type": "code",
      "source": [
        "autumn5.select(\"Duration\").toPandas().plot(kind=\"hist\", bins=23, density=True)\n",
        "plt.xlabel(\"Duration / seconds\")\n",
        "plt.ylabel(\"PDF\")\n",
        "minY,maxY = plt.ylim()\n",
        "plt.show()"
      ],
      "metadata": {
        "colab": {
          "base_uri": "https://localhost:8080/",
          "height": 449
        },
        "id": "CJCwMP_sf4H4",
        "outputId": "2fc8d5ea-98d7-4d79-881d-9e3307e7bffe"
      },
      "execution_count": null,
      "outputs": [
        {
          "output_type": "display_data",
          "data": {
            "text/plain": [
              "<Figure size 640x480 with 1 Axes>"
            ],
            "image/png": "[encoded data removed]"
          },
          "metadata": {}
        }
      ]
    },
    {
      "cell_type": "code",
      "source": [
        "spring5.select(\"Duration\").toPandas().plot(kind=\"hist\", bins=23, density=True)\n",
        "plt.xlabel(\"Duration / seconds\")\n",
        "plt.ylabel(\"PDF\")\n",
        "minY,maxY = plt.ylim()\n",
        "plt.show()"
      ],
      "metadata": {
        "colab": {
          "base_uri": "https://localhost:8080/",
          "height": 449
        },
        "id": "T6U-21KCpHTk",
        "outputId": "29ae34d3-1b8a-42e5-a7db-ae0c5948ccfb"
      },
      "execution_count": null,
      "outputs": [
        {
          "output_type": "display_data",
          "data": {
            "text/plain": [
              "<Figure size 640x480 with 1 Axes>"
            ],
            "image/png": "[encoded data removed]"
          },
          "metadata": {}
        }
      ]
    },
    {
      "cell_type": "markdown",
      "source": [
        "Both the spring and autumn data shows a decreasing trend for the increased dureation rides. But it can be noticed that the less duration rides for the autumn has more dentsity compared to that of the spring data."
      ],
      "metadata": {
        "id": "uwmGIQEjqPQB"
      }
    },
    {
      "cell_type": "markdown",
      "source": [
        "## 5 MANUAL VALIDATION"
      ],
      "metadata": {
        "id": "xdfIJWAKrjGv"
      }
    },
    {
      "cell_type": "markdown",
      "source": [
        "Research Hypothesis: In 2014, people ride\n",
        "for longer in Autumn than in Spring\n",
        "<br>For this hypothesis to be true the methodology adopted for manual testing is the mean method.\n",
        "<br>Mean(Autumn) > Mean(Spring) : Hypothesis is true\n",
        "<br>Mean(Autumn) < Mean(Spring) : Hypothesis is False"
      ],
      "metadata": {
        "id": "s4CuMf5dr_4p"
      }
    },
    {
      "cell_type": "code",
      "source": [
        "#Creating a new dataframe with duration\n",
        "autumn_duration = autumn5.select(col('Duration'))\n",
        "spring_duration = spring5.select(col('Duration'))"
      ],
      "metadata": {
        "id": "wmWWn4YEqpb8"
      },
      "execution_count": null,
      "outputs": []
    },
    {
      "cell_type": "code",
      "source": [
        "autumn_duration.agg({\"Duration\": \"mean\"}).show()\n",
        "spring_duration.agg({\"Duration\": \"mean\"}).show()"
      ],
      "metadata": {
        "colab": {
          "base_uri": "https://localhost:8080/"
        },
        "id": "SzXidWQLqoOB",
        "outputId": "56f50f2e-d229-44d9-aca3-d0b8033dfa38"
      },
      "execution_count": null,
      "outputs": [
        {
          "output_type": "stream",
          "name": "stdout",
          "text": [
            "+----------------+\n",
            "|   avg(Duration)|\n",
            "+----------------+\n",
            "|923.152479383264|\n",
            "+----------------+\n",
            "\n",
            "+-----------------+\n",
            "|    avg(Duration)|\n",
            "+-----------------+\n",
            "|980.2048995405866|\n",
            "+-----------------+\n",
            "\n"
          ]
        }
      ]
    },
    {
      "cell_type": "code",
      "source": [
        "autumn_duration.agg({\"Duration\": \"sum\"}).show()\n",
        "spring_duration.agg({\"Duration\": \"sum\"}).show()"
      ],
      "metadata": {
        "colab": {
          "base_uri": "https://localhost:8080/"
        },
        "id": "_U9lKf4nsqeH",
        "outputId": "289d14ce-2e83-42e1-b255-7581c5c43864"
      },
      "execution_count": null,
      "outputs": [
        {
          "output_type": "stream",
          "name": "stdout",
          "text": [
            "+-------------+\n",
            "|sum(Duration)|\n",
            "+-------------+\n",
            "|   1743274680|\n",
            "+-------------+\n",
            "\n",
            "+-------------+\n",
            "|sum(Duration)|\n",
            "+-------------+\n",
            "|   2102876700|\n",
            "+-------------+\n",
            "\n"
          ]
        }
      ]
    },
    {
      "cell_type": "markdown",
      "source": [
        "The Mean Duration of autumn is 923 and the mean duration of spring is 980.\n",
        "<br>Mean(Autumn) < Mean(Spring)\n",
        "<br>Hence the research hypothesis is proven False.\n",
        "The sum of the duration also shows the duration for spring is greater than the duration for autumn"
      ],
      "metadata": {
        "id": "6olQYO3Itk-F"
      }
    },
    {
      "cell_type": "markdown",
      "source": [
        "##6 HYPOTHESIS TESTING"
      ],
      "metadata": {
        "id": "U83q6buJuKTj"
      }
    },
    {
      "cell_type": "markdown",
      "source": [
        "The two sampled T test can be adopted here to test the hypothesis."
      ],
      "metadata": {
        "id": "V3PbRO4MukP8"
      }
    },
    {
      "cell_type": "code",
      "source": [
        "from numpy.random import seed\n",
        "from numpy.random import randn\n",
        "from numpy.random import normal\n",
        "from scipy.stats import ttest_ind"
      ],
      "metadata": {
        "id": "9dE6FhAOqnAY"
      },
      "execution_count": null,
      "outputs": []
    },
    {
      "cell_type": "code",
      "source": [
        "#Converting the dataframes to pandas dataframe\n",
        "pd_autumn_duration = autumn_duration.toPandas()\n",
        "pd_spring_duration = spring_duration.toPandas()"
      ],
      "metadata": {
        "id": "qguuV0ebvApl"
      },
      "execution_count": null,
      "outputs": []
    },
    {
      "cell_type": "markdown",
      "source": [
        "H₀: In 2014, people ride for longer in Autumn than in Spring.\n",
        "<br>H₁: In 2014, people donot ride for longer in Autumn than in Spring."
      ],
      "metadata": {
        "id": "YLFG4lHPvgSU"
      }
    },
    {
      "cell_type": "code",
      "source": [
        "sample1= pd_autumn_duration.sample(1000, random_state=0)\n",
        "sample2= pd_spring_duration.sample(1000, random_state=0)"
      ],
      "metadata": {
        "id": "9Wi6mRSUroeb"
      },
      "execution_count": null,
      "outputs": []
    },
    {
      "cell_type": "code",
      "source": [
        "t_statistic, p_value = ttest_ind(sample1, sample2)\n",
        "print(\"t-statistic: \", t_statistic)\n",
        "print(\"p-value: \", p_value)"
      ],
      "metadata": {
        "colab": {
          "base_uri": "https://localhost:8080/"
        },
        "id": "vb62VBMpqlzu",
        "outputId": "f227d1c7-b9da-456b-dfd6-168343d15fa2"
      },
      "execution_count": null,
      "outputs": [
        {
          "output_type": "stream",
          "name": "stdout",
          "text": [
            "t-statistic:  [-2.14346665]\n",
            "p-value:  [0.03219606]\n"
          ]
        }
      ]
    },
    {
      "cell_type": "markdown",
      "source": [
        "alpha = 0.05\n",
        "<br>Reject the null hypothesis if p-value <= alpha\n",
        "<br>Fail to reject the null hypothesis if p-value > alpha\n",
        "\n",
        "<br>p-value from the test = 0.03\n",
        "<br>p-value < alpha\n",
        "<br>Hence it rejects the null hypothesis. Which means in 2014, people donot ride for longer in Autumn than in Spring."
      ],
      "metadata": {
        "id": "yaB76Xxfr6Br"
      }
    },
    {
      "cell_type": "code",
      "source": [],
      "metadata": {
        "id": "ZZF2-maVqjh3"
      },
      "execution_count": null,
      "outputs": []
    }
  ]
}